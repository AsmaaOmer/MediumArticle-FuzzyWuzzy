{
 "cells": [
  {
   "cell_type": "markdown",
   "metadata": {},
   "source": [
    "<a id='intro'></a>\n",
    "# Matching messy Pandas columns with FuzzyWuzzy :"
   ]
  },
  {
   "cell_type": "markdown",
   "metadata": {},
   "source": [
    "![header](https://i.ibb.co/wLxk8nK/dinoheader-th.jpg)\n",
    "\n",
    "In this article, I'm going to show you how to use the Python package **FuzzyWuzzy** to **match two Pandas dataframe columns** based on **string similarity**; the intended outcome is to have each value of column A matched with the closest corresponding value in column B, which is then put in the same row.\n",
    "\n",
    "To do so, I'm going to use a messy real world case I personally encountered (personal and corporate info are substituted with fictitious and randomly generated data).\n",
    "\n",
    "Now before tackling our little problem, here's what to expect from this article :\n",
    "* Often times, when you work with different data sources, the same entity (business, country, address, phone number, hotel room type, music album, sport team, ...) could be written or worded differently. In this article, we're going to work on matching full names with emails. However, you can apply the same techniques for any string matching problem you encounter (string is just text, simply put) ; <br><br>\n",
    "\n",
    "* You can follow along with me by downloading the **Jupyter Notebook** and **the data** from my [Github repository](https://github.com/kelmouloudi/MediumArticle-FuzzyWuzzy). Alternatively, you can [browse the Jupyter Notebook online](https://mybinder.org/v2/gh/kelmouloudi/MediumArticle-FuzzyWuzzy/master) without having to download anything (it could take a little while to load though) ;<br><br>\n",
    "\n",
    "* This is a very beginner friendly article. I made sure to include an **appendix** towards the end where I explain in as much details as possible every code snippet that may seem complicated (just click the `code explanation` link on the top-right corner of code cells to get to the explanation in the appendix, then hit `go back` to go back to the original cell). \n",
    "However, a basic understanding of Python, Jupyter Notebooks and Pandas (which is a Python package used for data handling and analysis, among other things) will help you greatly."
   ]
  },
  {
   "cell_type": "markdown",
   "metadata": {},
   "source": [
    "<a id='table'></a>\n",
    "\n",
    "---\n",
    "# Table of contents :"
   ]
  },
  {
   "cell_type": "markdown",
   "metadata": {},
   "source": [
    "* [Introduction](#intro) <br>\n",
    "* [The problem](#theproblem)<br>\n",
    "* [The packages](#thepackages)<br>\n",
    "* [The data](#thedata)<br>\n",
    "* [The \"dumb but it kinda works\" solution](#thedumb)<br>\n",
    "* [The boring FuzzyWuzzy lecture](#theboring)<br>\n",
    "* [The not so boring FuzzyWuzzy application](#thenotsoboring)<br>\n",
    "* [The audit](#theaudit)<br>\n",
    "* [The quest for the best FuzzyWuzzy scorer](#thequest)<br>\n",
    "* [The battle of the scorers](#thebattle)<br>\n",
    "* [The verdict](#theverdict)<br>\n",
    "* [The appendix (code explanations)](#theappendix)\n",
    "* [Parting notes](#parting)"
   ]
  },
  {
   "cell_type": "markdown",
   "metadata": {},
   "source": [
    "<a id='theproblem'></a>\n",
    "\n",
    "---\n",
    "[Go back to table of contents ^](#table)\n",
    "# The problem :"
   ]
  },
  {
   "cell_type": "markdown",
   "metadata": {},
   "source": [
    "![baby](https://i.ibb.co/jvKJF9C/giant-baby.jpg)\n",
    "\n",
    "I work at a company called Giant Baby Bibs&trade; that specializes in making bibs for giant babies. GBB has 200 employees. One day I needed to make a list of all employees and their emails. Big surprise: the HR department has a file of all employee IDs and full names but not emails, and the IT department has a CSV file containing all of the emails but no employee IDs or names whatsoever.\n",
    "\n",
    "As if that isn't messy enough, the IT department doesn't have a clear established rule to how an email should be derived from the full name of an employee. For example, for an employee called **John Doe**, the email could be j.doe@giantbabybibs.org, or jdoe@giantbabybibs.org or even johndoe@giantbabybibs.org (especially for employees who have very short last names).\n",
    "\n",
    "Now the real kicker comes with employees who have a middle name. For **John Sebastian Doe** for instance, emails could be jsdoe@giantbabybibs.org or j.sebastian.doe@giantbabybibs.org or j.sebastian@giantbabybibs.org or any variation the webmaster felt was appropriate at the time. Way to go Kevin!"
   ]
  },
  {
   "cell_type": "markdown",
   "metadata": {},
   "source": [
    "<a id='thepackages'></a>\n",
    "\n",
    "---\n",
    "[Go back to table of contents ^](#table)\n",
    "# The packages :"
   ]
  },
  {
   "cell_type": "markdown",
   "metadata": {},
   "source": [
    "First things first, let's import `Pandas` :"
   ]
  },
  {
   "cell_type": "code",
   "execution_count": 1,
   "metadata": {},
   "outputs": [],
   "source": [
    "import pandas as pd"
   ]
  },
  {
   "cell_type": "markdown",
   "metadata": {},
   "source": [
    "If you don't have `FuzzyWuzzy` installed, you can install it by running `pip install fuzzywuzzy[speedup]` inside your Jupyter notebook or from the PIP or Anaconda prompt. If this doesn't work, you should install `FuzzyWuzzy` like this: `pip install fuzzywuzzy` and then install `python-levenshtein` like this: `pip install python-Levenshtein` (in order to speed the matching process).\n",
    "\n",
    "From `FuzzyWuzzy`, we'll mainly need two modules: `process` and `fuzz` :"
   ]
  },
  {
   "cell_type": "code",
   "execution_count": 2,
   "metadata": {},
   "outputs": [],
   "source": [
    "from fuzzywuzzy import process, fuzz"
   ]
  },
  {
   "cell_type": "markdown",
   "metadata": {},
   "source": [
    "Let's also import `matplotlib` for some data visualizations down the road :"
   ]
  },
  {
   "cell_type": "code",
   "execution_count": 3,
   "metadata": {},
   "outputs": [],
   "source": [
    "import matplotlib.pyplot as plt"
   ]
  },
  {
   "cell_type": "markdown",
   "metadata": {},
   "source": [
    " And for good measure, let's add some CSS to style our dataframes for added contrast between the axes and the data itself (If you don't like this style, just delete the cell, restart the kernel and re-run all cells). <br>\n",
    "<sub id='codex'>[code explanation 1](#codex1)</sub>\n",
    "<a id='code1'></a>"
   ]
  },
  {
   "cell_type": "code",
   "execution_count": 4,
   "metadata": {},
   "outputs": [
    {
     "data": {
      "text/html": [
       "<style>.dataframe th, td:first-child{background:#3f577c;font-family:monospace;color:white;border:3px solid white;\n",
       "text-align:left !important;}#codex{float:right;}</style>\n"
      ],
      "text/plain": [
       "<IPython.core.display.HTML object>"
      ]
     },
     "metadata": {},
     "output_type": "display_data"
    }
   ],
   "source": [
    "%%HTML\n",
    "<style>.dataframe th, td:first-child{background:#3f577c;font-family:monospace;color:white;border:3px solid white;\n",
    "text-align:left !important;}#codex{float:right;}</style>"
   ]
  },
  {
   "cell_type": "markdown",
   "metadata": {},
   "source": [
    "This next bit just insures the custom CSS style we just applied stays on when we use `style.background_gradient` later on:"
   ]
  },
  {
   "cell_type": "code",
   "execution_count": 5,
   "metadata": {},
   "outputs": [],
   "source": [
    "th_props = [('background','#3f577c'), ('font-family','monospace'), ('color','white'),('border','3px solid white'),\n",
    "            ('text-align','left !important')]\n",
    "styles = [dict(selector=\"th\", props=th_props)]"
   ]
  },
  {
   "cell_type": "markdown",
   "metadata": {},
   "source": [
    "<a id='thedata'></a>\n",
    "\n",
    "---\n",
    "[Go back to table of contents ^](#table)\n",
    "# The data :"
   ]
  },
  {
   "cell_type": "markdown",
   "metadata": {},
   "source": [
    "We have two dataframes or tables we'll need to match here :\n",
    "* `hr` that contains employee IDs and full names, as maintained by the HR department ;\n",
    "* `it` that contains only the emails extracted by the IT department.\n",
    "\n",
    "Make sure to change the 'data/hr.csv' and 'data/it.csv' paths to where your data is placed in your machine (don't forget to get the data from this article's [Github repository](https://github.com/kelmouloudi/MediumArticle-FuzzyWuzzy) :"
   ]
  },
  {
   "cell_type": "code",
   "execution_count": 6,
   "metadata": {},
   "outputs": [
    {
     "data": {
      "text/html": [
       "<div>\n",
       "<style scoped>\n",
       "    .dataframe tbody tr th:only-of-type {\n",
       "        vertical-align: middle;\n",
       "    }\n",
       "\n",
       "    .dataframe tbody tr th {\n",
       "        vertical-align: top;\n",
       "    }\n",
       "\n",
       "    .dataframe thead th {\n",
       "        text-align: right;\n",
       "    }\n",
       "</style>\n",
       "<table border=\"1\" class=\"dataframe\">\n",
       "  <thead>\n",
       "    <tr style=\"text-align: right;\">\n",
       "      <th></th>\n",
       "      <th>employee_id</th>\n",
       "      <th>full_name</th>\n",
       "    </tr>\n",
       "  </thead>\n",
       "  <tbody>\n",
       "    <tr>\n",
       "      <th>0</th>\n",
       "      <td>3CA946A9</td>\n",
       "      <td>Kortney Lapierre Brazee</td>\n",
       "    </tr>\n",
       "    <tr>\n",
       "      <th>1</th>\n",
       "      <td>FFB74DA3</td>\n",
       "      <td>Gita Meidinger</td>\n",
       "    </tr>\n",
       "    <tr>\n",
       "      <th>2</th>\n",
       "      <td>68B6478E</td>\n",
       "      <td>Georgia Ro Basil</td>\n",
       "    </tr>\n",
       "  </tbody>\n",
       "</table>\n",
       "</div>"
      ],
      "text/plain": [
       "  employee_id                full_name\n",
       "0    3CA946A9  Kortney Lapierre Brazee\n",
       "1    FFB74DA3           Gita Meidinger\n",
       "2    68B6478E         Georgia Ro Basil"
      ]
     },
     "metadata": {},
     "output_type": "display_data"
    },
    {
     "data": {
      "text/html": [
       "<div>\n",
       "<style scoped>\n",
       "    .dataframe tbody tr th:only-of-type {\n",
       "        vertical-align: middle;\n",
       "    }\n",
       "\n",
       "    .dataframe tbody tr th {\n",
       "        vertical-align: top;\n",
       "    }\n",
       "\n",
       "    .dataframe thead th {\n",
       "        text-align: right;\n",
       "    }\n",
       "</style>\n",
       "<table border=\"1\" class=\"dataframe\">\n",
       "  <thead>\n",
       "    <tr style=\"text-align: right;\">\n",
       "      <th></th>\n",
       "      <th>email</th>\n",
       "    </tr>\n",
       "  </thead>\n",
       "  <tbody>\n",
       "    <tr>\n",
       "      <th>0</th>\n",
       "      <td>l.kane@giantbabybibs.org</td>\n",
       "    </tr>\n",
       "    <tr>\n",
       "      <th>1</th>\n",
       "      <td>catkison@giantbabybibs.org</td>\n",
       "    </tr>\n",
       "    <tr>\n",
       "      <th>2</th>\n",
       "      <td>t.raney@giantbabybibs.org</td>\n",
       "    </tr>\n",
       "  </tbody>\n",
       "</table>\n",
       "</div>"
      ],
      "text/plain": [
       "                        email\n",
       "0    l.kane@giantbabybibs.org\n",
       "1  catkison@giantbabybibs.org\n",
       "2   t.raney@giantbabybibs.org"
      ]
     },
     "metadata": {},
     "output_type": "display_data"
    }
   ],
   "source": [
    "hr = pd.read_csv('data/hr.csv', encoding='unicode_escape')\n",
    "it = pd.read_csv('data/it.csv', encoding='unicode_escape')\n",
    "\n",
    "display( hr.head(3) )\n",
    "display( it.head(3) )"
   ]
  },
  {
   "cell_type": "markdown",
   "metadata": {},
   "source": [
    "Here, we have 200 employees in the `hr` dataframe and 200 emails in the `it` dataframe. To each employee corresponds a single email, and vice versa."
   ]
  },
  {
   "cell_type": "markdown",
   "metadata": {},
   "source": [
    "<a id='thedumb'></a>\n",
    "\n",
    "---\n",
    "[Go back to table of contents ^](#table)\n",
    "# The \"dumb but it kinda works\" solution :"
   ]
  },
  {
   "cell_type": "markdown",
   "metadata": {},
   "source": [
    "Before working the magic of `FuzzyWuzzy`, I'd like to explore a solution to this problem that I initially went with at the beginning. The idea is to :\n",
    "\n",
    "1. Automatically generate an email (let's call it `gen_email`) using the first letter of the first name coupled with the last name, and separated with a dot. So, for John Doe, the generated email will be j.doe@giantbabybibs.org. By exploring the list of actual emails, this seems like the dominating trend ;\n",
    "2. Compare the `gen_email` column with the actual `email` column and output a value of **True** if the generated email exists in the actual email list, and a value of **False** if it doesn't. The True and False values will be stored in a column called `exists`."
   ]
  },
  {
   "cell_type": "markdown",
   "metadata": {},
   "source": [
    "Now, let's make the `gen_email` column within the `hr` dataframe : <br>\n",
    "<sub id='codex'>[code explanation 2](#codex2)</sub>\n",
    "<a id='code2'></a>"
   ]
  },
  {
   "cell_type": "code",
   "execution_count": 7,
   "metadata": {},
   "outputs": [
    {
     "data": {
      "text/html": [
       "<div>\n",
       "<style scoped>\n",
       "    .dataframe tbody tr th:only-of-type {\n",
       "        vertical-align: middle;\n",
       "    }\n",
       "\n",
       "    .dataframe tbody tr th {\n",
       "        vertical-align: top;\n",
       "    }\n",
       "\n",
       "    .dataframe thead th {\n",
       "        text-align: right;\n",
       "    }\n",
       "</style>\n",
       "<table border=\"1\" class=\"dataframe\">\n",
       "  <thead>\n",
       "    <tr style=\"text-align: right;\">\n",
       "      <th></th>\n",
       "      <th>employee_id</th>\n",
       "      <th>full_name</th>\n",
       "      <th>gen_email</th>\n",
       "    </tr>\n",
       "  </thead>\n",
       "  <tbody>\n",
       "    <tr>\n",
       "      <th>0</th>\n",
       "      <td>3CA946A9</td>\n",
       "      <td>Kortney Lapierre Brazee</td>\n",
       "      <td>k.lapierre@giantbabybibs.org</td>\n",
       "    </tr>\n",
       "    <tr>\n",
       "      <th>1</th>\n",
       "      <td>FFB74DA3</td>\n",
       "      <td>Gita Meidinger</td>\n",
       "      <td>g.meidinger@giantbabybibs.org</td>\n",
       "    </tr>\n",
       "    <tr>\n",
       "      <th>2</th>\n",
       "      <td>68B6478E</td>\n",
       "      <td>Georgia Ro Basil</td>\n",
       "      <td>g.ro@giantbabybibs.org</td>\n",
       "    </tr>\n",
       "  </tbody>\n",
       "</table>\n",
       "</div>"
      ],
      "text/plain": [
       "  employee_id                full_name                      gen_email\n",
       "0    3CA946A9  Kortney Lapierre Brazee   k.lapierre@giantbabybibs.org\n",
       "1    FFB74DA3           Gita Meidinger  g.meidinger@giantbabybibs.org\n",
       "2    68B6478E         Georgia Ro Basil         g.ro@giantbabybibs.org"
      ]
     },
     "execution_count": 7,
     "metadata": {},
     "output_type": "execute_result"
    }
   ],
   "source": [
    "hr['gen_email'] = hr['full_name'].str[0] + '.' + hr['full_name'].str.split().str[1] + '@giantbabybibs.org'\n",
    "hr['gen_email'] = hr['gen_email'].str.lower()\n",
    "hr.head(3)"
   ]
  },
  {
   "cell_type": "markdown",
   "metadata": {},
   "source": [
    "Now let's check if the `gen_email` values exist in the actual `email` list. For this, we'll create an additional column called `exists` that accepts **True** if the generated email is correct, and **False** otherwise : <br>\n",
    "<sub id='codex'>[code explanation 3](#codex3)</sub>\n",
    "<a id='code3'></a>"
   ]
  },
  {
   "cell_type": "code",
   "execution_count": 8,
   "metadata": {},
   "outputs": [
    {
     "data": {
      "text/html": [
       "<div>\n",
       "<style scoped>\n",
       "    .dataframe tbody tr th:only-of-type {\n",
       "        vertical-align: middle;\n",
       "    }\n",
       "\n",
       "    .dataframe tbody tr th {\n",
       "        vertical-align: top;\n",
       "    }\n",
       "\n",
       "    .dataframe thead th {\n",
       "        text-align: right;\n",
       "    }\n",
       "</style>\n",
       "<table border=\"1\" class=\"dataframe\">\n",
       "  <thead>\n",
       "    <tr style=\"text-align: right;\">\n",
       "      <th></th>\n",
       "      <th>employee_id</th>\n",
       "      <th>full_name</th>\n",
       "      <th>gen_email</th>\n",
       "      <th>exists</th>\n",
       "    </tr>\n",
       "  </thead>\n",
       "  <tbody>\n",
       "    <tr>\n",
       "      <th>0</th>\n",
       "      <td>3CA946A9</td>\n",
       "      <td>Kortney Lapierre Brazee</td>\n",
       "      <td>k.lapierre@giantbabybibs.org</td>\n",
       "      <td>False</td>\n",
       "    </tr>\n",
       "    <tr>\n",
       "      <th>1</th>\n",
       "      <td>FFB74DA3</td>\n",
       "      <td>Gita Meidinger</td>\n",
       "      <td>g.meidinger@giantbabybibs.org</td>\n",
       "      <td>True</td>\n",
       "    </tr>\n",
       "    <tr>\n",
       "      <th>2</th>\n",
       "      <td>68B6478E</td>\n",
       "      <td>Georgia Ro Basil</td>\n",
       "      <td>g.ro@giantbabybibs.org</td>\n",
       "      <td>False</td>\n",
       "    </tr>\n",
       "  </tbody>\n",
       "</table>\n",
       "</div>"
      ],
      "text/plain": [
       "  employee_id                full_name                      gen_email  exists\n",
       "0    3CA946A9  Kortney Lapierre Brazee   k.lapierre@giantbabybibs.org   False\n",
       "1    FFB74DA3           Gita Meidinger  g.meidinger@giantbabybibs.org    True\n",
       "2    68B6478E         Georgia Ro Basil         g.ro@giantbabybibs.org   False"
      ]
     },
     "execution_count": 8,
     "metadata": {},
     "output_type": "execute_result"
    }
   ],
   "source": [
    "hr['exists'] = hr.apply(lambda x: x.gen_email in list(it.email), axis=1)\n",
    "hr.head(3)"
   ]
  },
  {
   "cell_type": "markdown",
   "metadata": {},
   "source": [
    "How many emails did we get right using this method? <br>\n",
    "<sub id='codex'>[code explanation 4](#codex4)</sub>\n",
    "<a id='code4'></a>"
   ]
  },
  {
   "cell_type": "code",
   "execution_count": 9,
   "metadata": {},
   "outputs": [
    {
     "data": {
      "image/png": "[encoded data removed]",
      "text/plain": [
       "<Figure size 864x72 with 1 Axes>"
      ]
     },
     "metadata": {
      "needs_background": "light"
     },
     "output_type": "display_data"
    }
   ],
   "source": [
    "ax = hr.exists.value_counts().sort_values().plot(kind='barh', color=['tomato', 'c'], figsize=(12,1), width=0.3)\n",
    "plt.xlim(0,201), plt.xticks(fontsize=8), ax.set_frame_on(False), plt.grid(color='white', alpha=.4, axis='x') ;"
   ]
  },
  {
   "cell_type": "markdown",
   "metadata": {},
   "source": [
    "So, out of 200, it turns out we got **148 emails right** and **52 emails wrong** (a success rate of 74%). Not bad! We could dig deeper with `if` statements covering the other ways an email could have been generated (without the dot, using the middle name instead of the last name, etc.), but let's use FuzzyWuzzy for now."
   ]
  },
  {
   "cell_type": "markdown",
   "metadata": {},
   "source": [
    "<a id='theboring'></a>\n",
    "\n",
    "---\n",
    "[Go back to table of contents ^](#table)\n",
    "# The boring FuzzyWuzzy lecture :"
   ]
  },
  {
   "cell_type": "markdown",
   "metadata": {},
   "source": [
    "Let's start with a basic intro to `FuzzyWuzzy`. This nifty package compares two strings A and B and outputs a ratio that estimates the distance between them. We are talking here about the **Levenshtein distance**, which is the distance between A and B in terms of how many changes we have to make to the string A in order to transform it into string B. The changes include removing, adding or substituting characters. The fewer the changes we have to make, the more similar A and B are, which results in a higher ratio.\n",
    "\n",
    "If you remember, we imported both `fuzz` and `process` from the `FuzzWuzzy` package. These are the main two modules we are going to cover in this article :\n",
    "\n",
    ">* **fuzz.ratio**: it compares two strings and outputs a ratio. For example: <br><br>\n",
    "fuzz.ratio( \"It's sunny outside!\", \"Outside is really sunny\")<br>\n",
    "Output: 38\n",
    "\n",
    ">* **process.extract**: it takes a string A and then looks for the best matches for it in a list of strings, then returns these strings along with their ratios (the limit parameter tells the module how many similar strings we want to return). For example : <br><br>\n",
    "list_of_strings = ['a', 'ab', 'c', 'cd'] <br>\n",
    "process.extract( 'aaa', list_of_strings, limit=2 ) <br>\n",
    "Output: [('a', 90), ('ab', 45)]\n",
    "\n",
    ">These two modules can use a variety of ways to calculate a ratio, from the basic Levenshtein ratio to the more sophisticated weighted ratio. These ways are called **scorers** and here's how to use them : <br><br>\n",
    "* fuzz.ratio(...)\n",
    "* fuzz.partial_ratio(...)\n",
    "* fuzz.WRatio(...) etc.\n",
    "* process.extract( ..., scorer=fuzz.ratio)\n",
    "* process.extract( ..., scorer=fuzz.partial_ratio)\n",
    "* process.extract( ..., scorer=fuzz.WRatio), etc. <br><br>\n",
    "We'll see the complete list of scorers and what each of them does later on. Ok, enough with the theory, let's get to the practice!"
   ]
  },
  {
   "cell_type": "markdown",
   "metadata": {},
   "source": [
    "<a id='thenotsoboring'></a>\n",
    "\n",
    "---\n",
    "[Go back to table of contents ^](#table)\n",
    "# The not so boring FuzzyWuzzy application :"
   ]
  },
  {
   "cell_type": "markdown",
   "metadata": {},
   "source": [
    "In our case, we want to compare each full name in the `hr.full_name` column with all the actual emails in the `it.email` column, so we'll be using **process.extract**. \n",
    "\n",
    "However, we only need the first part of the emails for this comparison, because the domain name part `@giantbabybibs.org` could interfere with ratio calculation. Let's generate a new column within the `it` dataframe called `username` : <br>\n",
    "<sub id='codex'>[code explanation 5](#codex5)</sub>\n",
    "<a id='code5'></a>"
   ]
  },
  {
   "cell_type": "code",
   "execution_count": 10,
   "metadata": {},
   "outputs": [
    {
     "data": {
      "text/html": [
       "<div>\n",
       "<style scoped>\n",
       "    .dataframe tbody tr th:only-of-type {\n",
       "        vertical-align: middle;\n",
       "    }\n",
       "\n",
       "    .dataframe tbody tr th {\n",
       "        vertical-align: top;\n",
       "    }\n",
       "\n",
       "    .dataframe thead th {\n",
       "        text-align: right;\n",
       "    }\n",
       "</style>\n",
       "<table border=\"1\" class=\"dataframe\">\n",
       "  <thead>\n",
       "    <tr style=\"text-align: right;\">\n",
       "      <th></th>\n",
       "      <th>email</th>\n",
       "      <th>username</th>\n",
       "    </tr>\n",
       "  </thead>\n",
       "  <tbody>\n",
       "    <tr>\n",
       "      <th>0</th>\n",
       "      <td>l.kane@giantbabybibs.org</td>\n",
       "      <td>l.kane</td>\n",
       "    </tr>\n",
       "    <tr>\n",
       "      <th>1</th>\n",
       "      <td>catkison@giantbabybibs.org</td>\n",
       "      <td>catkison</td>\n",
       "    </tr>\n",
       "    <tr>\n",
       "      <th>2</th>\n",
       "      <td>t.raney@giantbabybibs.org</td>\n",
       "      <td>t.raney</td>\n",
       "    </tr>\n",
       "  </tbody>\n",
       "</table>\n",
       "</div>"
      ],
      "text/plain": [
       "                        email  username\n",
       "0    l.kane@giantbabybibs.org    l.kane\n",
       "1  catkison@giantbabybibs.org  catkison\n",
       "2   t.raney@giantbabybibs.org   t.raney"
      ]
     },
     "execution_count": 10,
     "metadata": {},
     "output_type": "execute_result"
    }
   ],
   "source": [
    "it['username'] = it['email'].str.replace('@giantbabybibs.org', '')\n",
    "it.head(3)"
   ]
  },
  {
   "cell_type": "markdown",
   "metadata": {},
   "source": [
    "Now let's use **process.extract** to compare `hr.full_name` to `it.username` (note that we added the domaine name `@giantbabybibs.org` AFTER calculating the ratios): <br>\n",
    "<sub id='codex'>[code explanation 6](#codex6)</sub>\n",
    "<a id='code6'></a>"
   ]
  },
  {
   "cell_type": "code",
   "execution_count": 11,
   "metadata": {},
   "outputs": [
    {
     "data": {
      "text/html": [
       "<div>\n",
       "<style scoped>\n",
       "    .dataframe tbody tr th:only-of-type {\n",
       "        vertical-align: middle;\n",
       "    }\n",
       "\n",
       "    .dataframe tbody tr th {\n",
       "        vertical-align: top;\n",
       "    }\n",
       "\n",
       "    .dataframe thead th {\n",
       "        text-align: right;\n",
       "    }\n",
       "</style>\n",
       "<table border=\"1\" class=\"dataframe\">\n",
       "  <thead>\n",
       "    <tr style=\"text-align: right;\">\n",
       "      <th></th>\n",
       "      <th>employee_id</th>\n",
       "      <th>full_name</th>\n",
       "      <th>gen_email</th>\n",
       "      <th>exists</th>\n",
       "      <th>actual_email</th>\n",
       "      <th>similarity</th>\n",
       "    </tr>\n",
       "  </thead>\n",
       "  <tbody>\n",
       "    <tr>\n",
       "      <th>0</th>\n",
       "      <td>3CA946A9</td>\n",
       "      <td>Kortney Lapierre Brazee</td>\n",
       "      <td>k.lapierre@giantbabybibs.org</td>\n",
       "      <td>False</td>\n",
       "      <td>k.brazee@giantbabybibs.org</td>\n",
       "      <td>86</td>\n",
       "    </tr>\n",
       "    <tr>\n",
       "      <th>1</th>\n",
       "      <td>FFB74DA3</td>\n",
       "      <td>Gita Meidinger</td>\n",
       "      <td>g.meidinger@giantbabybibs.org</td>\n",
       "      <td>True</td>\n",
       "      <td>g.meidinger@giantbabybibs.org</td>\n",
       "      <td>88</td>\n",
       "    </tr>\n",
       "    <tr>\n",
       "      <th>2</th>\n",
       "      <td>68B6478E</td>\n",
       "      <td>Georgia Ro Basil</td>\n",
       "      <td>g.ro@giantbabybibs.org</td>\n",
       "      <td>False</td>\n",
       "      <td>g.robasil@giantbabybibs.org</td>\n",
       "      <td>80</td>\n",
       "    </tr>\n",
       "  </tbody>\n",
       "</table>\n",
       "</div>"
      ],
      "text/plain": [
       "  employee_id                full_name                      gen_email  exists  \\\n",
       "0    3CA946A9  Kortney Lapierre Brazee   k.lapierre@giantbabybibs.org   False   \n",
       "1    FFB74DA3           Gita Meidinger  g.meidinger@giantbabybibs.org    True   \n",
       "2    68B6478E         Georgia Ro Basil         g.ro@giantbabybibs.org   False   \n",
       "\n",
       "                    actual_email  similarity  \n",
       "0     k.brazee@giantbabybibs.org          86  \n",
       "1  g.meidinger@giantbabybibs.org          88  \n",
       "2    g.robasil@giantbabybibs.org          80  "
      ]
     },
     "execution_count": 11,
     "metadata": {},
     "output_type": "execute_result"
    }
   ],
   "source": [
    "actual_email = []\n",
    "similarity = []\n",
    "\n",
    "for i in hr.full_name:\n",
    "        ratio = process.extract( i, it.username, limit=1)\n",
    "        actual_email.append(ratio[0][0])\n",
    "        similarity.append(ratio[0][1])\n",
    "\n",
    "hr['actual_email'] = pd.Series(actual_email)\n",
    "hr['actual_email'] = hr['actual_email'] + '@giantbabybibs.org'\n",
    "hr['similarity'] = pd.Series(similarity)\n",
    "\n",
    "hr.head(3)"
   ]
  },
  {
   "cell_type": "markdown",
   "metadata": {},
   "source": [
    "The Fuzz Wizard has worked its magic! Now let's simplify this dataframe by only keeping the `full_name`, `actual_email` and `similarity` columns. Let's call it `final_result` : <br>\n",
    "<sub id='codex'>[code explanation 7](#codex7)</sub>\n",
    "<a id='code7'></a>"
   ]
  },
  {
   "cell_type": "code",
   "execution_count": 12,
   "metadata": {},
   "outputs": [
    {
     "data": {
      "text/html": [
       "<div>\n",
       "<style scoped>\n",
       "    .dataframe tbody tr th:only-of-type {\n",
       "        vertical-align: middle;\n",
       "    }\n",
       "\n",
       "    .dataframe tbody tr th {\n",
       "        vertical-align: top;\n",
       "    }\n",
       "\n",
       "    .dataframe thead th {\n",
       "        text-align: right;\n",
       "    }\n",
       "</style>\n",
       "<table border=\"1\" class=\"dataframe\">\n",
       "  <thead>\n",
       "    <tr style=\"text-align: right;\">\n",
       "      <th></th>\n",
       "      <th>full_name</th>\n",
       "      <th>actual_email</th>\n",
       "      <th>similarity</th>\n",
       "    </tr>\n",
       "  </thead>\n",
       "  <tbody>\n",
       "    <tr>\n",
       "      <th>0</th>\n",
       "      <td>Kortney Lapierre Brazee</td>\n",
       "      <td>k.brazee@giantbabybibs.org</td>\n",
       "      <td>86</td>\n",
       "    </tr>\n",
       "    <tr>\n",
       "      <th>1</th>\n",
       "      <td>Gita Meidinger</td>\n",
       "      <td>g.meidinger@giantbabybibs.org</td>\n",
       "      <td>88</td>\n",
       "    </tr>\n",
       "    <tr>\n",
       "      <th>2</th>\n",
       "      <td>Georgia Ro Basil</td>\n",
       "      <td>g.robasil@giantbabybibs.org</td>\n",
       "      <td>80</td>\n",
       "    </tr>\n",
       "  </tbody>\n",
       "</table>\n",
       "</div>"
      ],
      "text/plain": [
       "                 full_name                   actual_email  similarity\n",
       "0  Kortney Lapierre Brazee     k.brazee@giantbabybibs.org          86\n",
       "1           Gita Meidinger  g.meidinger@giantbabybibs.org          88\n",
       "2         Georgia Ro Basil    g.robasil@giantbabybibs.org          80"
      ]
     },
     "execution_count": 12,
     "metadata": {},
     "output_type": "execute_result"
    }
   ],
   "source": [
    "final_result = hr[['full_name', 'actual_email', 'similarity']]\n",
    "final_result.head(3)"
   ]
  },
  {
   "cell_type": "markdown",
   "metadata": {},
   "source": [
    "<a id='theaudit'></a>\n",
    "\n",
    "---\n",
    "[Go back to table of contents ^](#table)\n",
    "# The audit :"
   ]
  },
  {
   "cell_type": "markdown",
   "metadata": {},
   "source": [
    "This is good and all, but how can we make sure every employee is matched to the correct email? A good way to do so is to format the dataframe so the low ratios would be easier to spot and inspect using a colormap. In our case, we're going to use the reversed summer colormap `summer_r` where high ratios get colored green and low ratios take the color yellow : <br>\n",
    "<sub id='codex'>[code explanation 8](#codex8)</sub>\n",
    "<a id='code8'></a>"
   ]
  },
  {
   "cell_type": "code",
   "execution_count": 13,
   "metadata": {
    "scrolled": false
   },
   "outputs": [
    {
     "data": {
      "text/html": [
       "<style  type=\"text/css\" >\n",
       "    #T_486f61cc_de31_11e9_b1d1_5cf3708bad73 th {\n",
       "          background: #3f577c;\n",
       "          font-family: monospace;\n",
       "          color: white;\n",
       "          border: 3px solid white;\n",
       "          text-align: left !important;\n",
       "    }    #T_486f61cc_de31_11e9_b1d1_5cf3708bad73row0_col2 {\n",
       "            background-color:  #66b266;\n",
       "            color:  #000000;\n",
       "        }    #T_486f61cc_de31_11e9_b1d1_5cf3708bad73row1_col2 {\n",
       "            background-color:  #339966;\n",
       "            color:  #000000;\n",
       "        }    #T_486f61cc_de31_11e9_b1d1_5cf3708bad73row2_col2 {\n",
       "            background-color:  #ffff66;\n",
       "            color:  #000000;\n",
       "        }    #T_486f61cc_de31_11e9_b1d1_5cf3708bad73row3_col2 {\n",
       "            background-color:  #66b266;\n",
       "            color:  #000000;\n",
       "        }    #T_486f61cc_de31_11e9_b1d1_5cf3708bad73row4_col2 {\n",
       "            background-color:  #66b266;\n",
       "            color:  #000000;\n",
       "        }    #T_486f61cc_de31_11e9_b1d1_5cf3708bad73row5_col2 {\n",
       "            background-color:  #008066;\n",
       "            color:  #f1f1f1;\n",
       "        }    #T_486f61cc_de31_11e9_b1d1_5cf3708bad73row6_col2 {\n",
       "            background-color:  #66b266;\n",
       "            color:  #000000;\n",
       "        }    #T_486f61cc_de31_11e9_b1d1_5cf3708bad73row7_col2 {\n",
       "            background-color:  #66b266;\n",
       "            color:  #000000;\n",
       "        }</style><table id=\"T_486f61cc_de31_11e9_b1d1_5cf3708bad73\" ><thead>    <tr>        <th class=\"blank level0\" ></th>        <th class=\"col_heading level0 col0\" >full_name</th>        <th class=\"col_heading level0 col1\" >actual_email</th>        <th class=\"col_heading level0 col2\" >similarity</th>    </tr></thead><tbody>\n",
       "                <tr>\n",
       "                        <th id=\"T_486f61cc_de31_11e9_b1d1_5cf3708bad73level0_row0\" class=\"row_heading level0 row0\" >0</th>\n",
       "                        <td id=\"T_486f61cc_de31_11e9_b1d1_5cf3708bad73row0_col0\" class=\"data row0 col0\" >Kortney Lapierre Brazee</td>\n",
       "                        <td id=\"T_486f61cc_de31_11e9_b1d1_5cf3708bad73row0_col1\" class=\"data row0 col1\" >k.brazee@giantbabybibs.org</td>\n",
       "                        <td id=\"T_486f61cc_de31_11e9_b1d1_5cf3708bad73row0_col2\" class=\"data row0 col2\" >86</td>\n",
       "            </tr>\n",
       "            <tr>\n",
       "                        <th id=\"T_486f61cc_de31_11e9_b1d1_5cf3708bad73level0_row1\" class=\"row_heading level0 row1\" >1</th>\n",
       "                        <td id=\"T_486f61cc_de31_11e9_b1d1_5cf3708bad73row1_col0\" class=\"data row1 col0\" >Gita Meidinger</td>\n",
       "                        <td id=\"T_486f61cc_de31_11e9_b1d1_5cf3708bad73row1_col1\" class=\"data row1 col1\" >g.meidinger@giantbabybibs.org</td>\n",
       "                        <td id=\"T_486f61cc_de31_11e9_b1d1_5cf3708bad73row1_col2\" class=\"data row1 col2\" >88</td>\n",
       "            </tr>\n",
       "            <tr>\n",
       "                        <th id=\"T_486f61cc_de31_11e9_b1d1_5cf3708bad73level0_row2\" class=\"row_heading level0 row2\" >2</th>\n",
       "                        <td id=\"T_486f61cc_de31_11e9_b1d1_5cf3708bad73row2_col0\" class=\"data row2 col0\" >Georgia Ro Basil</td>\n",
       "                        <td id=\"T_486f61cc_de31_11e9_b1d1_5cf3708bad73row2_col1\" class=\"data row2 col1\" >g.robasil@giantbabybibs.org</td>\n",
       "                        <td id=\"T_486f61cc_de31_11e9_b1d1_5cf3708bad73row2_col2\" class=\"data row2 col2\" >80</td>\n",
       "            </tr>\n",
       "            <tr>\n",
       "                        <th id=\"T_486f61cc_de31_11e9_b1d1_5cf3708bad73level0_row3\" class=\"row_heading level0 row3\" >3</th>\n",
       "                        <td id=\"T_486f61cc_de31_11e9_b1d1_5cf3708bad73row3_col0\" class=\"data row3 col0\" >Consuela Schomer</td>\n",
       "                        <td id=\"T_486f61cc_de31_11e9_b1d1_5cf3708bad73row3_col1\" class=\"data row3 col1\" >c.schomer@giantbabybibs.org</td>\n",
       "                        <td id=\"T_486f61cc_de31_11e9_b1d1_5cf3708bad73row3_col2\" class=\"data row3 col2\" >86</td>\n",
       "            </tr>\n",
       "            <tr>\n",
       "                        <th id=\"T_486f61cc_de31_11e9_b1d1_5cf3708bad73level0_row4\" class=\"row_heading level0 row4\" >4</th>\n",
       "                        <td id=\"T_486f61cc_de31_11e9_b1d1_5cf3708bad73row4_col0\" class=\"data row4 col0\" >Domingo Stansel</td>\n",
       "                        <td id=\"T_486f61cc_de31_11e9_b1d1_5cf3708bad73row4_col1\" class=\"data row4 col1\" >d.stansel@giantbabybibs.org</td>\n",
       "                        <td id=\"T_486f61cc_de31_11e9_b1d1_5cf3708bad73row4_col2\" class=\"data row4 col2\" >86</td>\n",
       "            </tr>\n",
       "            <tr>\n",
       "                        <th id=\"T_486f61cc_de31_11e9_b1d1_5cf3708bad73level0_row5\" class=\"row_heading level0 row5\" >5</th>\n",
       "                        <td id=\"T_486f61cc_de31_11e9_b1d1_5cf3708bad73row5_col0\" class=\"data row5 col0\" >Avelina Brinkman</td>\n",
       "                        <td id=\"T_486f61cc_de31_11e9_b1d1_5cf3708bad73row5_col1\" class=\"data row5 col1\" >a.brinkman@giantbabybibs.org</td>\n",
       "                        <td id=\"T_486f61cc_de31_11e9_b1d1_5cf3708bad73row5_col2\" class=\"data row5 col2\" >90</td>\n",
       "            </tr>\n",
       "            <tr>\n",
       "                        <th id=\"T_486f61cc_de31_11e9_b1d1_5cf3708bad73level0_row6\" class=\"row_heading level0 row6\" >6</th>\n",
       "                        <td id=\"T_486f61cc_de31_11e9_b1d1_5cf3708bad73row6_col0\" class=\"data row6 col0\" >Felipa Riviera</td>\n",
       "                        <td id=\"T_486f61cc_de31_11e9_b1d1_5cf3708bad73row6_col1\" class=\"data row6 col1\" >f.riviera@giantbabybibs.org</td>\n",
       "                        <td id=\"T_486f61cc_de31_11e9_b1d1_5cf3708bad73row6_col2\" class=\"data row6 col2\" >86</td>\n",
       "            </tr>\n",
       "            <tr>\n",
       "                        <th id=\"T_486f61cc_de31_11e9_b1d1_5cf3708bad73level0_row7\" class=\"row_heading level0 row7\" >7</th>\n",
       "                        <td id=\"T_486f61cc_de31_11e9_b1d1_5cf3708bad73row7_col0\" class=\"data row7 col0\" >Nevada Deane Duerr</td>\n",
       "                        <td id=\"T_486f61cc_de31_11e9_b1d1_5cf3708bad73row7_col1\" class=\"data row7 col1\" >n.duerr@giantbabybibs.org</td>\n",
       "                        <td id=\"T_486f61cc_de31_11e9_b1d1_5cf3708bad73row7_col2\" class=\"data row7 col2\" >86</td>\n",
       "            </tr>\n",
       "    </tbody></table>"
      ],
      "text/plain": [
       "<pandas.io.formats.style.Styler at 0x20097e8af98>"
      ]
     },
     "execution_count": 13,
     "metadata": {},
     "output_type": "execute_result"
    }
   ],
   "source": [
    "final_result.head(8).style.background_gradient(subset='similarity', cmap='summer_r') \\\n",
    "                    .set_table_styles(styles)"
   ]
  },
  {
   "cell_type": "markdown",
   "metadata": {},
   "source": [
    "In addition to this, we can sort the `final_result` dataframe by `similarity` and then inspect the low ratios (note that a high ratio does not mean the matching is correct. The reverse is also true) :"
   ]
  },
  {
   "cell_type": "code",
   "execution_count": 14,
   "metadata": {},
   "outputs": [
    {
     "data": {
      "text/html": [
       "<div>\n",
       "<style scoped>\n",
       "    .dataframe tbody tr th:only-of-type {\n",
       "        vertical-align: middle;\n",
       "    }\n",
       "\n",
       "    .dataframe tbody tr th {\n",
       "        vertical-align: top;\n",
       "    }\n",
       "\n",
       "    .dataframe thead th {\n",
       "        text-align: right;\n",
       "    }\n",
       "</style>\n",
       "<table border=\"1\" class=\"dataframe\">\n",
       "  <thead>\n",
       "    <tr style=\"text-align: right;\">\n",
       "      <th></th>\n",
       "      <th>full_name</th>\n",
       "      <th>actual_email</th>\n",
       "      <th>similarity</th>\n",
       "    </tr>\n",
       "  </thead>\n",
       "  <tbody>\n",
       "    <tr>\n",
       "      <th>162</th>\n",
       "      <td>Jacquline Karly Mackay Jerez</td>\n",
       "      <td>j.kmjerez@giantbabybibs.org</td>\n",
       "      <td>60</td>\n",
       "    </tr>\n",
       "    <tr>\n",
       "      <th>94</th>\n",
       "      <td>Tammi Towe</td>\n",
       "      <td>ttowe@giantbabybibs.org</td>\n",
       "      <td>72</td>\n",
       "    </tr>\n",
       "    <tr>\n",
       "      <th>167</th>\n",
       "      <td>Barnaby Jones</td>\n",
       "      <td>bjones@giantbabybibs.org</td>\n",
       "      <td>75</td>\n",
       "    </tr>\n",
       "    <tr>\n",
       "      <th>115</th>\n",
       "      <td>Zenaida Kilby</td>\n",
       "      <td>zkilby@giantbabybibs.org</td>\n",
       "      <td>75</td>\n",
       "    </tr>\n",
       "    <tr>\n",
       "      <th>193</th>\n",
       "      <td>Weston Faris</td>\n",
       "      <td>w.farris@giantbabybibs.org</td>\n",
       "      <td>75</td>\n",
       "    </tr>\n",
       "    <tr>\n",
       "      <th>12</th>\n",
       "      <td>Velvet Moench</td>\n",
       "      <td>vmoench@giantbabybibs.org</td>\n",
       "      <td>77</td>\n",
       "    </tr>\n",
       "    <tr>\n",
       "      <th>165</th>\n",
       "      <td>Beulah Baucom</td>\n",
       "      <td>bbaucom@giantbabybibs.org</td>\n",
       "      <td>77</td>\n",
       "    </tr>\n",
       "    <tr>\n",
       "      <th>178</th>\n",
       "      <td>Curtis Strode</td>\n",
       "      <td>cstrode@giantbabybibs.org</td>\n",
       "      <td>77</td>\n",
       "    </tr>\n",
       "  </tbody>\n",
       "</table>\n",
       "</div>"
      ],
      "text/plain": [
       "                        full_name                 actual_email  similarity\n",
       "162  Jacquline Karly Mackay Jerez  j.kmjerez@giantbabybibs.org          60\n",
       "94                     Tammi Towe      ttowe@giantbabybibs.org          72\n",
       "167                 Barnaby Jones     bjones@giantbabybibs.org          75\n",
       "115                 Zenaida Kilby     zkilby@giantbabybibs.org          75\n",
       "193                  Weston Faris   w.farris@giantbabybibs.org          75\n",
       "12                  Velvet Moench    vmoench@giantbabybibs.org          77\n",
       "165                 Beulah Baucom    bbaucom@giantbabybibs.org          77\n",
       "178                 Curtis Strode    cstrode@giantbabybibs.org          77"
      ]
     },
     "execution_count": 14,
     "metadata": {},
     "output_type": "execute_result"
    }
   ],
   "source": [
    "final_result.sort_values(by='similarity').head(8)"
   ]
  },
  {
   "cell_type": "markdown",
   "metadata": {},
   "source": [
    "But, what can you do if your dataframe is huge (say a million records or more)? You can use **random sampling** in order to control whether the matching was successful or not. You should run the code below as many times as you need, because each time you do you'll get a new random sample to inspect (the `random_state=9` parameter here insure you'll get the same sample as I did. Remove it in order to get a random sample every time you run the cell) :"
   ]
  },
  {
   "cell_type": "code",
   "execution_count": 15,
   "metadata": {},
   "outputs": [
    {
     "data": {
      "text/html": [
       "<div>\n",
       "<style scoped>\n",
       "    .dataframe tbody tr th:only-of-type {\n",
       "        vertical-align: middle;\n",
       "    }\n",
       "\n",
       "    .dataframe tbody tr th {\n",
       "        vertical-align: top;\n",
       "    }\n",
       "\n",
       "    .dataframe thead th {\n",
       "        text-align: right;\n",
       "    }\n",
       "</style>\n",
       "<table border=\"1\" class=\"dataframe\">\n",
       "  <thead>\n",
       "    <tr style=\"text-align: right;\">\n",
       "      <th></th>\n",
       "      <th>full_name</th>\n",
       "      <th>actual_email</th>\n",
       "      <th>similarity</th>\n",
       "    </tr>\n",
       "  </thead>\n",
       "  <tbody>\n",
       "    <tr>\n",
       "      <th>84</th>\n",
       "      <td>Saran Mackay Breazeale</td>\n",
       "      <td>sm.breazeale@giantbabybibs.org</td>\n",
       "      <td>86</td>\n",
       "    </tr>\n",
       "    <tr>\n",
       "      <th>60</th>\n",
       "      <td>Rocio E. Thatch</td>\n",
       "      <td>e.manor@giantbabybibs.org</td>\n",
       "      <td>86</td>\n",
       "    </tr>\n",
       "    <tr>\n",
       "      <th>54</th>\n",
       "      <td>Awilda Kyler</td>\n",
       "      <td>a.kyler@giantbabybibs.org</td>\n",
       "      <td>90</td>\n",
       "    </tr>\n",
       "    <tr>\n",
       "      <th>109</th>\n",
       "      <td>Hilda Falcon</td>\n",
       "      <td>h.falcon@giantbabybibs.org</td>\n",
       "      <td>86</td>\n",
       "    </tr>\n",
       "    <tr>\n",
       "      <th>156</th>\n",
       "      <td>Tomi Heintz</td>\n",
       "      <td>t.heintz@giantbabybibs.org</td>\n",
       "      <td>84</td>\n",
       "    </tr>\n",
       "    <tr>\n",
       "      <th>140</th>\n",
       "      <td>Darlene Frenz</td>\n",
       "      <td>d.frenz@giantbabybibs.org</td>\n",
       "      <td>86</td>\n",
       "    </tr>\n",
       "    <tr>\n",
       "      <th>39</th>\n",
       "      <td>Lane Leo</td>\n",
       "      <td>lane.leo@giantbabybibs.org</td>\n",
       "      <td>100</td>\n",
       "    </tr>\n",
       "    <tr>\n",
       "      <th>116</th>\n",
       "      <td>Debra Leitner</td>\n",
       "      <td>d.leitner@giantbabybibs.org</td>\n",
       "      <td>84</td>\n",
       "    </tr>\n",
       "  </tbody>\n",
       "</table>\n",
       "</div>"
      ],
      "text/plain": [
       "                  full_name                    actual_email  similarity\n",
       "84   Saran Mackay Breazeale  sm.breazeale@giantbabybibs.org          86\n",
       "60          Rocio E. Thatch       e.manor@giantbabybibs.org          86\n",
       "54             Awilda Kyler       a.kyler@giantbabybibs.org          90\n",
       "109            Hilda Falcon      h.falcon@giantbabybibs.org          86\n",
       "156             Tomi Heintz      t.heintz@giantbabybibs.org          84\n",
       "140           Darlene Frenz       d.frenz@giantbabybibs.org          86\n",
       "39                 Lane Leo      lane.leo@giantbabybibs.org         100\n",
       "116           Debra Leitner     d.leitner@giantbabybibs.org          84"
      ]
     },
     "execution_count": 15,
     "metadata": {},
     "output_type": "execute_result"
    }
   ],
   "source": [
    "sample = final_result.sample( n=8, random_state=9 )\n",
    "sample"
   ]
  },
  {
   "cell_type": "markdown",
   "metadata": {},
   "source": [
    "As we can see here, the random sample above shows that one particular mistake was made for employee **N°60: Rocio E. Thatch**. Could that be because of the abbreviated middle name? Let's check if we have any other employees like this one : <br>\n",
    "<sub id='codex'>[code explanation 9](#codex9)</sub>\n",
    "<a id='code9'></a>"
   ]
  },
  {
   "cell_type": "code",
   "execution_count": 16,
   "metadata": {},
   "outputs": [
    {
     "data": {
      "text/html": [
       "<div>\n",
       "<style scoped>\n",
       "    .dataframe tbody tr th:only-of-type {\n",
       "        vertical-align: middle;\n",
       "    }\n",
       "\n",
       "    .dataframe tbody tr th {\n",
       "        vertical-align: top;\n",
       "    }\n",
       "\n",
       "    .dataframe thead th {\n",
       "        text-align: right;\n",
       "    }\n",
       "</style>\n",
       "<table border=\"1\" class=\"dataframe\">\n",
       "  <thead>\n",
       "    <tr style=\"text-align: right;\">\n",
       "      <th></th>\n",
       "      <th>full_name</th>\n",
       "      <th>actual_email</th>\n",
       "      <th>similarity</th>\n",
       "    </tr>\n",
       "  </thead>\n",
       "  <tbody>\n",
       "    <tr>\n",
       "      <th>44</th>\n",
       "      <td>Lenora K. Monteiro</td>\n",
       "      <td>k.bohannon@giantbabybibs.org</td>\n",
       "      <td>86</td>\n",
       "    </tr>\n",
       "    <tr>\n",
       "      <th>60</th>\n",
       "      <td>Rocio E. Thatch</td>\n",
       "      <td>e.manor@giantbabybibs.org</td>\n",
       "      <td>86</td>\n",
       "    </tr>\n",
       "    <tr>\n",
       "      <th>70</th>\n",
       "      <td>M. Hailey Crafton</td>\n",
       "      <td>m.pennywell@giantbabybibs.org</td>\n",
       "      <td>86</td>\n",
       "    </tr>\n",
       "    <tr>\n",
       "      <th>150</th>\n",
       "      <td>Latonya F. Latch</td>\n",
       "      <td>f.riviera@giantbabybibs.org</td>\n",
       "      <td>86</td>\n",
       "    </tr>\n",
       "  </tbody>\n",
       "</table>\n",
       "</div>"
      ],
      "text/plain": [
       "              full_name                   actual_email  similarity\n",
       "44   Lenora K. Monteiro   k.bohannon@giantbabybibs.org          86\n",
       "60      Rocio E. Thatch      e.manor@giantbabybibs.org          86\n",
       "70    M. Hailey Crafton  m.pennywell@giantbabybibs.org          86\n",
       "150    Latonya F. Latch    f.riviera@giantbabybibs.org          86"
      ]
     },
     "execution_count": 16,
     "metadata": {},
     "output_type": "execute_result"
    }
   ],
   "source": [
    "final_result[final_result['full_name'].str.contains('.', regex=False)]"
   ]
  },
  {
   "cell_type": "markdown",
   "metadata": {},
   "source": [
    "Now would you look at that! The process got all of the 4 employees wrong. Even though that's only **4 wrongs** out of **200**, which means a **success rate of 98%**, imagine if you have 173.000 employees in the dataframe (for a company like General Motors for example), that would mean **3460 wrong emails**.\n",
    "\n",
    "To understand why this mistake was made, we have to inspect which `FuzzyWuzzy` **scorer** the process used. A scorer is a method that generates a ratio by comparing two strings. And yes, as we have seen before, `FuzzyWuzzy` has many different scorers you can choose from depending on the kind of data you're working with. Here is a list of said scorers :\n",
    "* fuzz.ratio\n",
    "* fuzz.partial_ratio\n",
    "* fuzz.token_set_ratio\n",
    "* fuzz.token_sort_ratio\n",
    "* fuzz.partial_token_set_ratio\n",
    "* fuzz.partial_token_sort_ratio\n",
    "* **fuzz.WRatio**\n",
    "* fuzz.QRatio\n",
    "* fuzz.UWRatio\n",
    "* fuzz.UQRatio\n",
    "\n",
    "The one used by default for the process is `fuzz.WRatio`. If you want to use `process` with one of these scorers, just pass it as an argument like this:\n",
    "\n",
    "`ratio = process.extract( column_A, column_B, limit=1, scorer=fuzz.ratio )`\n",
    "\n",
    "Next, we'll test some of these scorers to see which one works perfectly in our case. Let the hunt for a success rate of 100% begin!"
   ]
  },
  {
   "cell_type": "markdown",
   "metadata": {},
   "source": [
    "<a id='thequest'></a>\n",
    "\n",
    "---\n",
    "[Go back to table of contents ^](#table)\n",
    "# The quest for the perfect FuzzyWuzzy scorer :"
   ]
  },
  {
   "cell_type": "markdown",
   "metadata": {},
   "source": [
    "Let's see all the `FuzzyWuzzy` scorers we can use. We'll assign an abbreviation to each of them to use it later as a key in a dictionary (the scorer methods are case sensitive. fuzz.wratio for example will not work) :\n",
    "* fuzz.ratio (R)\n",
    "* fuzz.partial_ratio (PR)\n",
    "* fuzz.token_set_ratio (TSeR)\n",
    "* fuzz.token_sort_ratio (TSoR)\n",
    "* fuzz.partial_token_set_ratio (PTSeR)\n",
    "* fuzz.partial_token_sort_ratio (PTsoR)\n",
    "* fuzz.WRatio (WR)\n",
    "* fuzz.QRatio (QR)\n",
    "* fuzz.UWRatio (UWR)\n",
    "* fuzz.UQRatio (UQR)"
   ]
  },
  {
   "cell_type": "markdown",
   "metadata": {},
   "source": [
    "And here's our fancy `scorer_dict` dictionary :"
   ]
  },
  {
   "cell_type": "code",
   "execution_count": 17,
   "metadata": {},
   "outputs": [],
   "source": [
    "scorer_dict = { 'R':fuzz.ratio, 'PR': fuzz.partial_ratio, 'TSeR': fuzz.token_set_ratio, 'TSoR': fuzz.token_sort_ratio,\n",
    "                'PTSeR': fuzz.partial_token_set_ratio, 'PTSoR': fuzz.partial_token_sort_ratio, 'WR': fuzz.WRatio, \n",
    "                'QR': fuzz.QRatio, 'UWR': fuzz.UWRatio, 'UQR': fuzz.UQRatio }"
   ]
  },
  {
   "cell_type": "markdown",
   "metadata": {},
   "source": [
    "Remember the `hr` dataframe? We'll use its column `full_name` for this test. We'll call it `scorer_test` :"
   ]
  },
  {
   "cell_type": "code",
   "execution_count": 18,
   "metadata": {},
   "outputs": [
    {
     "data": {
      "text/html": [
       "<div>\n",
       "<style scoped>\n",
       "    .dataframe tbody tr th:only-of-type {\n",
       "        vertical-align: middle;\n",
       "    }\n",
       "\n",
       "    .dataframe tbody tr th {\n",
       "        vertical-align: top;\n",
       "    }\n",
       "\n",
       "    .dataframe thead th {\n",
       "        text-align: right;\n",
       "    }\n",
       "</style>\n",
       "<table border=\"1\" class=\"dataframe\">\n",
       "  <thead>\n",
       "    <tr style=\"text-align: right;\">\n",
       "      <th></th>\n",
       "      <th>full_name</th>\n",
       "    </tr>\n",
       "  </thead>\n",
       "  <tbody>\n",
       "    <tr>\n",
       "      <th>0</th>\n",
       "      <td>Kortney Lapierre Brazee</td>\n",
       "    </tr>\n",
       "    <tr>\n",
       "      <th>1</th>\n",
       "      <td>Gita Meidinger</td>\n",
       "    </tr>\n",
       "    <tr>\n",
       "      <th>2</th>\n",
       "      <td>Georgia Ro Basil</td>\n",
       "    </tr>\n",
       "  </tbody>\n",
       "</table>\n",
       "</div>"
      ],
      "text/plain": [
       "                 full_name\n",
       "0  Kortney Lapierre Brazee\n",
       "1           Gita Meidinger\n",
       "2         Georgia Ro Basil"
      ]
     },
     "execution_count": 18,
     "metadata": {},
     "output_type": "execute_result"
    }
   ],
   "source": [
    "scorer_test = hr[['full_name']].copy()\n",
    "scorer_test.head(3)"
   ]
  },
  {
   "cell_type": "markdown",
   "metadata": {},
   "source": [
    "And now for the big show! We'll define a **function** called `scorer_tester_function` that takes a **parameter x** from the `scorer_dict` (which is simply the name of the scorer) and matches the `scorer_test.full_name` column with the `it.email` column : <br>\n",
    "<sub id='codex'>[code explanation 10](#codex10)</sub>\n",
    "<a id='code10'></a>"
   ]
  },
  {
   "cell_type": "code",
   "execution_count": 19,
   "metadata": {},
   "outputs": [],
   "source": [
    "def scorer_tester_function(x) :\n",
    "    actual_email = []\n",
    "    similarity = []\n",
    "    \n",
    "    for i in scorer_test['full_name']:\n",
    "        ratio = process.extract( i, it.username, limit=1, scorer=scorer_dict[x])\n",
    "        actual_email.append( ratio[0][0] )\n",
    "        similarity.append( ratio[0][1] )\n",
    "\n",
    "        scorer_test['actual_email'] = pd.Series(actual_email)\n",
    "        scorer_test['actual_email'] = scorer_test['actual_email'] + '@giantbabybibs.org'\n",
    "        scorer_test['similarity'] = pd.Series(similarity)\n",
    "        \n",
    "    return scorer_test"
   ]
  },
  {
   "cell_type": "markdown",
   "metadata": {},
   "source": [
    "And then, we'll apply the function with different scorers from the `scorer_dict` dictionary. Let's start with the 4 employees **fuzz.WRatio (WR)** got wrong : <br><br>\n",
    "<sub id='codex'>[code explanation 11](#codex11)</sub>\n",
    "<a id='code11'></a>"
   ]
  },
  {
   "cell_type": "code",
   "execution_count": 20,
   "metadata": {},
   "outputs": [
    {
     "data": {
      "text/html": [
       "<div>\n",
       "<style scoped>\n",
       "    .dataframe tbody tr th:only-of-type {\n",
       "        vertical-align: middle;\n",
       "    }\n",
       "\n",
       "    .dataframe tbody tr th {\n",
       "        vertical-align: top;\n",
       "    }\n",
       "\n",
       "    .dataframe thead th {\n",
       "        text-align: right;\n",
       "    }\n",
       "</style>\n",
       "<table border=\"1\" class=\"dataframe\">\n",
       "  <thead>\n",
       "    <tr style=\"text-align: right;\">\n",
       "      <th></th>\n",
       "      <th>full_name</th>\n",
       "      <th>actual_email</th>\n",
       "      <th>similarity</th>\n",
       "    </tr>\n",
       "  </thead>\n",
       "  <tbody>\n",
       "    <tr>\n",
       "      <th>44</th>\n",
       "      <td>Lenora K. Monteiro</td>\n",
       "      <td>k.bohannon@giantbabybibs.org</td>\n",
       "      <td>86</td>\n",
       "    </tr>\n",
       "    <tr>\n",
       "      <th>60</th>\n",
       "      <td>Rocio E. Thatch</td>\n",
       "      <td>e.manor@giantbabybibs.org</td>\n",
       "      <td>86</td>\n",
       "    </tr>\n",
       "    <tr>\n",
       "      <th>70</th>\n",
       "      <td>M. Hailey Crafton</td>\n",
       "      <td>m.pennywell@giantbabybibs.org</td>\n",
       "      <td>86</td>\n",
       "    </tr>\n",
       "    <tr>\n",
       "      <th>150</th>\n",
       "      <td>Latonya F. Latch</td>\n",
       "      <td>f.riviera@giantbabybibs.org</td>\n",
       "      <td>86</td>\n",
       "    </tr>\n",
       "  </tbody>\n",
       "</table>\n",
       "</div>"
      ],
      "text/plain": [
       "              full_name                   actual_email  similarity\n",
       "44   Lenora K. Monteiro   k.bohannon@giantbabybibs.org          86\n",
       "60      Rocio E. Thatch      e.manor@giantbabybibs.org          86\n",
       "70    M. Hailey Crafton  m.pennywell@giantbabybibs.org          86\n",
       "150    Latonya F. Latch    f.riviera@giantbabybibs.org          86"
      ]
     },
     "execution_count": 20,
     "metadata": {},
     "output_type": "execute_result"
    }
   ],
   "source": [
    "scorer_tester_function('WR')\n",
    "scorer_test[scorer_test.full_name.str.contains('.', regex=False)]"
   ]
  },
  {
   "cell_type": "markdown",
   "metadata": {},
   "source": [
    "As we can see, **fuzz.WRatio (WR)** performs badly with full names having an abbreviated middle name. Let's see if other scorers will correct this, **fuzz.ratio (R)** for example :"
   ]
  },
  {
   "cell_type": "code",
   "execution_count": 21,
   "metadata": {
    "scrolled": false
   },
   "outputs": [
    {
     "data": {
      "text/html": [
       "<div>\n",
       "<style scoped>\n",
       "    .dataframe tbody tr th:only-of-type {\n",
       "        vertical-align: middle;\n",
       "    }\n",
       "\n",
       "    .dataframe tbody tr th {\n",
       "        vertical-align: top;\n",
       "    }\n",
       "\n",
       "    .dataframe thead th {\n",
       "        text-align: right;\n",
       "    }\n",
       "</style>\n",
       "<table border=\"1\" class=\"dataframe\">\n",
       "  <thead>\n",
       "    <tr style=\"text-align: right;\">\n",
       "      <th></th>\n",
       "      <th>full_name</th>\n",
       "      <th>actual_email</th>\n",
       "      <th>similarity</th>\n",
       "    </tr>\n",
       "  </thead>\n",
       "  <tbody>\n",
       "    <tr>\n",
       "      <th>44</th>\n",
       "      <td>Lenora K. Monteiro</td>\n",
       "      <td>l.monteiro@giantbabybibs.org</td>\n",
       "      <td>71</td>\n",
       "    </tr>\n",
       "    <tr>\n",
       "      <th>60</th>\n",
       "      <td>Rocio E. Thatch</td>\n",
       "      <td>r.ethatch@giantbabybibs.org</td>\n",
       "      <td>75</td>\n",
       "    </tr>\n",
       "    <tr>\n",
       "      <th>70</th>\n",
       "      <td>M. Hailey Crafton</td>\n",
       "      <td>mcrafton@giantbabybibs.org</td>\n",
       "      <td>64</td>\n",
       "    </tr>\n",
       "    <tr>\n",
       "      <th>150</th>\n",
       "      <td>Latonya F. Latch</td>\n",
       "      <td>l.latch@giantbabybibs.org</td>\n",
       "      <td>61</td>\n",
       "    </tr>\n",
       "  </tbody>\n",
       "</table>\n",
       "</div>"
      ],
      "text/plain": [
       "              full_name                  actual_email  similarity\n",
       "44   Lenora K. Monteiro  l.monteiro@giantbabybibs.org          71\n",
       "60      Rocio E. Thatch   r.ethatch@giantbabybibs.org          75\n",
       "70    M. Hailey Crafton    mcrafton@giantbabybibs.org          64\n",
       "150    Latonya F. Latch     l.latch@giantbabybibs.org          61"
      ]
     },
     "metadata": {},
     "output_type": "display_data"
    },
    {
     "data": {
      "text/html": [
       "<div>\n",
       "<style scoped>\n",
       "    .dataframe tbody tr th:only-of-type {\n",
       "        vertical-align: middle;\n",
       "    }\n",
       "\n",
       "    .dataframe tbody tr th {\n",
       "        vertical-align: top;\n",
       "    }\n",
       "\n",
       "    .dataframe thead th {\n",
       "        text-align: right;\n",
       "    }\n",
       "</style>\n",
       "<table border=\"1\" class=\"dataframe\">\n",
       "  <thead>\n",
       "    <tr style=\"text-align: right;\">\n",
       "      <th></th>\n",
       "      <th>full_name</th>\n",
       "      <th>actual_email</th>\n",
       "      <th>similarity</th>\n",
       "    </tr>\n",
       "  </thead>\n",
       "  <tbody>\n",
       "    <tr>\n",
       "      <th>81</th>\n",
       "      <td>Sterling Malory Archer</td>\n",
       "      <td>a.curlingmaloy@giantbabybibs.org</td>\n",
       "      <td>56</td>\n",
       "    </tr>\n",
       "  </tbody>\n",
       "</table>\n",
       "</div>"
      ],
      "text/plain": [
       "                 full_name                      actual_email  similarity\n",
       "81  Sterling Malory Archer  a.curlingmaloy@giantbabybibs.org          56"
      ]
     },
     "metadata": {},
     "output_type": "display_data"
    }
   ],
   "source": [
    "scorer_tester_function('R')\n",
    "display(scorer_test[scorer_test.full_name.str.contains('.', regex=False)])\n",
    "display(scorer_test[81:82])"
   ]
  },
  {
   "cell_type": "markdown",
   "metadata": {},
   "source": [
    "It did! **fuzz.ratio (R)** got **199 out of 200 correct** (99.5% success rate). The only mistake it made was for employee N°81: **Sterling Malory Archer**. (we're in the danger zone!). However, all employees with abbreviated middle names were properly handled with this scorer.\n",
    "\n",
    "Can we do better? Let's try another scorer, **fuzz.partial_ratio (PR)** this time, and see if it's going to work on all problematic employee names :"
   ]
  },
  {
   "cell_type": "code",
   "execution_count": 22,
   "metadata": {},
   "outputs": [
    {
     "data": {
      "text/html": [
       "<div>\n",
       "<style scoped>\n",
       "    .dataframe tbody tr th:only-of-type {\n",
       "        vertical-align: middle;\n",
       "    }\n",
       "\n",
       "    .dataframe tbody tr th {\n",
       "        vertical-align: top;\n",
       "    }\n",
       "\n",
       "    .dataframe thead th {\n",
       "        text-align: right;\n",
       "    }\n",
       "</style>\n",
       "<table border=\"1\" class=\"dataframe\">\n",
       "  <thead>\n",
       "    <tr style=\"text-align: right;\">\n",
       "      <th></th>\n",
       "      <th>full_name</th>\n",
       "      <th>actual_email</th>\n",
       "      <th>similarity</th>\n",
       "    </tr>\n",
       "  </thead>\n",
       "  <tbody>\n",
       "    <tr>\n",
       "      <th>44</th>\n",
       "      <td>Lenora K. Monteiro</td>\n",
       "      <td>l.monteiro@giantbabybibs.org</td>\n",
       "      <td>90</td>\n",
       "    </tr>\n",
       "    <tr>\n",
       "      <th>60</th>\n",
       "      <td>Rocio E. Thatch</td>\n",
       "      <td>r.ethatch@giantbabybibs.org</td>\n",
       "      <td>78</td>\n",
       "    </tr>\n",
       "    <tr>\n",
       "      <th>70</th>\n",
       "      <td>M. Hailey Crafton</td>\n",
       "      <td>mcrafton@giantbabybibs.org</td>\n",
       "      <td>88</td>\n",
       "    </tr>\n",
       "    <tr>\n",
       "      <th>150</th>\n",
       "      <td>Latonya F. Latch</td>\n",
       "      <td>l.latch@giantbabybibs.org</td>\n",
       "      <td>86</td>\n",
       "    </tr>\n",
       "  </tbody>\n",
       "</table>\n",
       "</div>"
      ],
      "text/plain": [
       "              full_name                  actual_email  similarity\n",
       "44   Lenora K. Monteiro  l.monteiro@giantbabybibs.org          90\n",
       "60      Rocio E. Thatch   r.ethatch@giantbabybibs.org          78\n",
       "70    M. Hailey Crafton    mcrafton@giantbabybibs.org          88\n",
       "150    Latonya F. Latch     l.latch@giantbabybibs.org          86"
      ]
     },
     "metadata": {},
     "output_type": "display_data"
    },
    {
     "data": {
      "text/html": [
       "<div>\n",
       "<style scoped>\n",
       "    .dataframe tbody tr th:only-of-type {\n",
       "        vertical-align: middle;\n",
       "    }\n",
       "\n",
       "    .dataframe tbody tr th {\n",
       "        vertical-align: top;\n",
       "    }\n",
       "\n",
       "    .dataframe thead th {\n",
       "        text-align: right;\n",
       "    }\n",
       "</style>\n",
       "<table border=\"1\" class=\"dataframe\">\n",
       "  <thead>\n",
       "    <tr style=\"text-align: right;\">\n",
       "      <th></th>\n",
       "      <th>full_name</th>\n",
       "      <th>actual_email</th>\n",
       "      <th>similarity</th>\n",
       "    </tr>\n",
       "  </thead>\n",
       "  <tbody>\n",
       "    <tr>\n",
       "      <th>81</th>\n",
       "      <td>Sterling Malory Archer</td>\n",
       "      <td>s.archer@giantbabybibs.org</td>\n",
       "      <td>88</td>\n",
       "    </tr>\n",
       "  </tbody>\n",
       "</table>\n",
       "</div>"
      ],
      "text/plain": [
       "                 full_name                actual_email  similarity\n",
       "81  Sterling Malory Archer  s.archer@giantbabybibs.org          88"
      ]
     },
     "metadata": {},
     "output_type": "display_data"
    }
   ],
   "source": [
    "scorer_tester_function('PR')\n",
    "display(scorer_test[scorer_test.full_name.str.contains('.', regex=False)])\n",
    "display(scorer_test[81:82])"
   ]
  },
  {
   "cell_type": "markdown",
   "metadata": {},
   "source": [
    "Finally! After manually checking all other records, I hereby announce **fuzz.partial_ratio (PR)** the champion with **100% success rate**. The quest is over guys!"
   ]
  },
  {
   "cell_type": "markdown",
   "metadata": {},
   "source": [
    "<a id='thebattle'></a>\n",
    "\n",
    "---\n",
    "[Go back to table of contents ^](#table)\n",
    "# The battle of the scorers :"
   ]
  },
  {
   "cell_type": "markdown",
   "metadata": {},
   "source": [
    "![battle](https://i.ibb.co/Yy4HgmF/battle.jpg)\n",
    "\n",
    "In real world applications, you may be working with huge amounts of data, in which case manually inspecting the results is not an option. That's why you need to understand what each `FuzzyWuzzy` scorer does in order to choose the one that works best for the kind of data you're handling.\n",
    "\n",
    "To explore the differences between the scorers `FuzzyWuzzy` has to offer, we're going to work with a test string. We want to match the **address of a friend** with **multiple addresses from a phonebook** (yes, phonebooks are still a thing!):"
   ]
  },
  {
   "cell_type": "code",
   "execution_count": 23,
   "metadata": {},
   "outputs": [],
   "source": [
    "friend_address = '56 West Princess Rd. Cedar Rapids, IA 52402'\n",
    "\n",
    "phonebook = [ '9102 South St. Lake Worth, FL 33460',\n",
    "              '20425 Prince Edward Road, West philadelphia, PA 56560',\n",
    "              'Wst Princess Road, Appt. 56 N°8 3rd floor, C.Rapids, 52402 Iowa ',\n",
    "              '400 Van Dyke St.Hartford, IA 26106',\n",
    "              '56 Golden Star Rd, Stone Rapids, GA 52483' ]"
   ]
  },
  {
   "cell_type": "markdown",
   "metadata": {},
   "source": [
    "And now let's put all the scorers to the test. We'll use the `fuzz` module instead of `process` in this case."
   ]
  },
  {
   "cell_type": "markdown",
   "metadata": {},
   "source": [
    "* ## fuzz.ratio (R) : <br>\n",
    "<sub id='codex'>[code explanation 12](#codex12)</sub>\n",
    "<a id='code12'></a>"
   ]
  },
  {
   "cell_type": "code",
   "execution_count": 24,
   "metadata": {},
   "outputs": [
    {
     "name": "stdout",
     "output_type": "stream",
     "text": [
      "Friend's address :  56 West Princess Rd. Cedar Rapids, IA 52402 \n",
      " -------------------------------------------------------------- \n",
      "\n",
      "9102 South St. Lake Worth, FL 33460 \n",
      "RATIO:  31 \n",
      "\n",
      "20425 Prince Edward Road, West philadelphia, PA 56560 \n",
      "RATIO:  50 \n",
      "\n",
      "Wst Princess Road, Appt. 56 N°8 3rd floor, C.Rapids, 52402 Iowa  \n",
      "RATIO:  62 \n",
      "\n",
      "400 Van Dyke St.Hartford, IA 26106 \n",
      "RATIO:  39 \n",
      "\n",
      "56 Golden Star Rd, Stone Rapids, GA 52483 \n",
      "RATIO:  60 \n",
      "\n"
     ]
    }
   ],
   "source": [
    "print(\"Friend's address : \", friend_address, '\\n', 62*'-', '\\n')\n",
    "\n",
    "for address in phonebook:\n",
    "    ratio = fuzz.ratio(friend_address, address)\n",
    "    print(address,'\\nRATIO: ',ratio, '\\n')"
   ]
  },
  {
   "cell_type": "markdown",
   "metadata": {},
   "source": [
    "**fuzz.ratio (R)** simply calculates the **Levenshtein distance**. It only returns 100% if the two strings are exactly similar, uppercase and lowercase included, which makes it useful if we're looking for an exact match."
   ]
  },
  {
   "cell_type": "markdown",
   "metadata": {},
   "source": [
    "* ## fuzz.partial_ratio (PR) :"
   ]
  },
  {
   "cell_type": "code",
   "execution_count": 25,
   "metadata": {},
   "outputs": [
    {
     "name": "stdout",
     "output_type": "stream",
     "text": [
      "Friend's address :  56 West Princess Rd. Cedar Rapids, IA 52402 \n",
      " -------------------------------------------------------------- \n",
      "\n",
      "9102 South St. Lake Worth, FL 33460 \n",
      "RATIO:  29 \n",
      "\n",
      "20425 Prince Edward Road, West philadelphia, PA 56560 \n",
      "RATIO:  49 \n",
      "\n",
      "Wst Princess Road, Appt. 56 N°8 3rd floor, C.Rapids, 52402 Iowa  \n",
      "RATIO:  51 \n",
      "\n",
      "400 Van Dyke St.Hartford, IA 26106 \n",
      "RATIO:  41 \n",
      "\n",
      "56 Golden Star Rd, Stone Rapids, GA 52483 \n",
      "RATIO:  61 \n",
      "\n"
     ]
    }
   ],
   "source": [
    "print(\"Friend's address : \", friend_address, '\\n', 62*'-', '\\n')\n",
    "\n",
    "for address in phonebook:\n",
    "    ratio = fuzz.partial_ratio(friend_address, address)\n",
    "    print(address,'\\nRATIO: ',ratio, '\\n')"
   ]
  },
  {
   "cell_type": "markdown",
   "metadata": {},
   "source": [
    "**fuzz.partial_ratio (PR)** takes into account subsets of the strings it compares, and then returns a ratio according to their similarities. For example, it will return a ratio of 100% if it compares **Dwayne The Rock Johnson** with **Dwayne** :"
   ]
  },
  {
   "cell_type": "code",
   "execution_count": 46,
   "metadata": {},
   "outputs": [
    {
     "data": {
      "text/plain": [
       "100"
      ]
     },
     "execution_count": 46,
     "metadata": {},
     "output_type": "execute_result"
    }
   ],
   "source": [
    "fuzz.partial_ratio('Dwayne The Rock Johnson', 'Dwayne')"
   ]
  },
  {
   "cell_type": "markdown",
   "metadata": {},
   "source": [
    "In our case however, it got fooled because the 5<sup>th</sup> address has common words with the friend's address like `56`, `Rd.` and `Rapids`. So, perhaps this is not the best scorer to use for this particular task."
   ]
  },
  {
   "cell_type": "markdown",
   "metadata": {},
   "source": [
    "* ## fuzz.token_sort_ratio (TSoR) :"
   ]
  },
  {
   "cell_type": "code",
   "execution_count": 27,
   "metadata": {},
   "outputs": [
    {
     "name": "stdout",
     "output_type": "stream",
     "text": [
      "Friend's address :  56 West Princess Rd. Cedar Rapids, IA 52402 \n",
      " -------------------------------------------------------------- \n",
      "\n",
      "9102 South St. Lake Worth, FL 33460 \n",
      "RATIO:  35 \n",
      "\n",
      "20425 Prince Edward Road, West philadelphia, PA 56560 \n",
      "RATIO:  65 \n",
      "\n",
      "Wst Princess Road, Appt. 56 N°8 3rd floor, C.Rapids, 52402 Iowa  \n",
      "RATIO:  75 \n",
      "\n",
      "400 Van Dyke St.Hartford, IA 26106 \n",
      "RATIO:  38 \n",
      "\n",
      "56 Golden Star Rd, Stone Rapids, GA 52483 \n",
      "RATIO:  57 \n",
      "\n"
     ]
    }
   ],
   "source": [
    "print(\"Friend's address : \", friend_address, '\\n', 62*'-', '\\n')\n",
    "\n",
    "for address in phonebook:\n",
    "    ratio = fuzz.token_sort_ratio(friend_address, address)\n",
    "    print(address,'\\nRATIO: ',ratio, '\\n')"
   ]
  },
  {
   "cell_type": "markdown",
   "metadata": {},
   "source": [
    "The Token methods have the advantage of ignoring case and punctuation (all characters get turned to lowercase characters). In the case of **fuzz.token_sort_ratio (TSoR)**, the 'Tokenized' strings (each word is turned into a token) get sorted in alphanumeric order before applying the basic **fuzz.ratio (R)** on them, so the order of the words in both strings compared doesn't matter (unlike the previous non-token methods). In this case, this scorer performed very well."
   ]
  },
  {
   "cell_type": "markdown",
   "metadata": {},
   "source": [
    "* ## fuzz.token_set_ratio (TSeR) :"
   ]
  },
  {
   "cell_type": "code",
   "execution_count": 28,
   "metadata": {},
   "outputs": [
    {
     "name": "stdout",
     "output_type": "stream",
     "text": [
      "Friend's address :  56 West Princess Rd. Cedar Rapids, IA 52402 \n",
      " -------------------------------------------------------------- \n",
      "\n",
      "9102 South St. Lake Worth, FL 33460 \n",
      "RATIO:  35 \n",
      "\n",
      "20425 Prince Edward Road, West philadelphia, PA 56560 \n",
      "RATIO:  65 \n",
      "\n",
      "Wst Princess Road, Appt. 56 N°8 3rd floor, C.Rapids, 52402 Iowa  \n",
      "RATIO:  77 \n",
      "\n",
      "400 Van Dyke St.Hartford, IA 26106 \n",
      "RATIO:  43 \n",
      "\n",
      "56 Golden Star Rd, Stone Rapids, GA 52483 \n",
      "RATIO:  60 \n",
      "\n"
     ]
    }
   ],
   "source": [
    "print(\"Friend's address : \", friend_address, '\\n', 62*'-', '\\n')\n",
    "\n",
    "for address in phonebook:\n",
    "    ratio = fuzz.token_set_ratio(friend_address, address)\n",
    "    print(address,'\\nRATIO: ',ratio, '\\n')"
   ]
  },
  {
   "cell_type": "markdown",
   "metadata": {},
   "source": [
    "This is by far the best ratio for the given task. **fuzz.token_set_ratio (TSeR)** is similar to **fuzz.token_sort_ratio (TSoR)**, except it ignores duplicated words (hence the name, because a `set` in Math and also in Python is a collection/data structure that holds no duplicate values). It also conducts a pair to pair comparison on tokens that are common to both strings compared.\n",
    "\n",
    "Example of a set :"
   ]
  },
  {
   "cell_type": "code",
   "execution_count": 29,
   "metadata": {},
   "outputs": [
    {
     "data": {
      "text/plain": [
       "{'badger', 'mushroom', 'snake'}"
      ]
     },
     "execution_count": 29,
     "metadata": {},
     "output_type": "execute_result"
    }
   ],
   "source": [
    "song = ['badger', 'badger', 'badger', 'mushroom', 'mushroom', 'snake', 'badger']\n",
    "set(song)"
   ]
  },
  {
   "cell_type": "markdown",
   "metadata": {},
   "source": [
    "* ## fuzz.partial_token_sort_ratio (PTSoR) :"
   ]
  },
  {
   "cell_type": "code",
   "execution_count": 30,
   "metadata": {},
   "outputs": [
    {
     "name": "stdout",
     "output_type": "stream",
     "text": [
      "Friend's address :  56 West Princess Rd. Cedar Rapids, IA 52402 \n",
      " -------------------------------------------------------------- \n",
      "\n",
      "9102 South St. Lake Worth, FL 33460 \n",
      "RATIO:  33 \n",
      "\n",
      "20425 Prince Edward Road, West philadelphia, PA 56560 \n",
      "RATIO:  61 \n",
      "\n",
      "Wst Princess Road, Appt. 56 N°8 3rd floor, C.Rapids, 52402 Iowa  \n",
      "RATIO:  71 \n",
      "\n",
      "400 Van Dyke St.Hartford, IA 26106 \n",
      "RATIO:  42 \n",
      "\n",
      "56 Golden Star Rd, Stone Rapids, GA 52483 \n",
      "RATIO:  56 \n",
      "\n"
     ]
    }
   ],
   "source": [
    "print(\"Friend's address : \", friend_address, '\\n', 62*'-', '\\n')\n",
    "\n",
    "for address in phonebook:\n",
    "    ratio = fuzz.partial_token_sort_ratio(friend_address, address)\n",
    "    print(address,'\\nRATIO: ',ratio, '\\n')"
   ]
  },
  {
   "cell_type": "markdown",
   "metadata": {},
   "source": [
    "**fuzz.partial_token_sort_ratio (PTSoR)** has the same working as **fuzz.token_sort_ratio (TSR)**, but it uses the **fuzz.partial_ratio (PR)** method after tokenization and sorting rather than the normal **fuzz.ratio (R)** method."
   ]
  },
  {
   "cell_type": "markdown",
   "metadata": {},
   "source": [
    "* ## fuzz.partial_token_set_ratio (PTSeR) :"
   ]
  },
  {
   "cell_type": "code",
   "execution_count": 31,
   "metadata": {},
   "outputs": [
    {
     "name": "stdout",
     "output_type": "stream",
     "text": [
      "Friend's address :  56 West Princess Rd. Cedar Rapids, IA 52402 \n",
      " -------------------------------------------------------------- \n",
      "\n",
      "9102 South St. Lake Worth, FL 33460 \n",
      "RATIO:  33 \n",
      "\n",
      "20425 Prince Edward Road, West philadelphia, PA 56560 \n",
      "RATIO:  100 \n",
      "\n",
      "Wst Princess Road, Appt. 56 N°8 3rd floor, C.Rapids, 52402 Iowa  \n",
      "RATIO:  100 \n",
      "\n",
      "400 Van Dyke St.Hartford, IA 26106 \n",
      "RATIO:  100 \n",
      "\n",
      "56 Golden Star Rd, Stone Rapids, GA 52483 \n",
      "RATIO:  100 \n",
      "\n"
     ]
    }
   ],
   "source": [
    "print(\"Friend's address : \", friend_address, '\\n', 62*'-', '\\n')\n",
    "\n",
    "for address in phonebook:\n",
    "    ratio = fuzz.partial_token_set_ratio(friend_address, address)\n",
    "    print(address,'\\nRATIO: ',ratio, '\\n')"
   ]
  },
  {
   "cell_type": "markdown",
   "metadata": {},
   "source": [
    "Same as **fuzz.token_set_ratio (TSR)**, but instead of using **fuzz.ratio (R)** after tokenization and setting (eliminating duplicates), it uses **fuzz.partial_ratio (PR)**. Here we see it is way too forgiving to be useful in this case."
   ]
  },
  {
   "cell_type": "markdown",
   "metadata": {},
   "source": [
    "* ## fuzz.WRatio (WR) :"
   ]
  },
  {
   "cell_type": "code",
   "execution_count": 32,
   "metadata": {
    "scrolled": true
   },
   "outputs": [
    {
     "name": "stdout",
     "output_type": "stream",
     "text": [
      "Friend's address :  56 West Princess Rd. Cedar Rapids, IA 52402 \n",
      " -------------------------------------------------------------- \n",
      "\n",
      "9102 South St. Lake Worth, FL 33460 \n",
      "RATIO:  38 \n",
      "\n",
      "20425 Prince Edward Road, West philadelphia, PA 56560 \n",
      "RATIO:  62 \n",
      "\n",
      "Wst Princess Road, Appt. 56 N°8 3rd floor, C.Rapids, 52402 Iowa  \n",
      "RATIO:  73 \n",
      "\n",
      "400 Van Dyke St.Hartford, IA 26106 \n",
      "RATIO:  44 \n",
      "\n",
      "56 Golden Star Rd, Stone Rapids, GA 52483 \n",
      "RATIO:  64 \n",
      "\n"
     ]
    }
   ],
   "source": [
    "print(\"Friend's address : \", friend_address, '\\n', 62*'-', '\\n')\n",
    "\n",
    "for address in phonebook:\n",
    "    ratio = fuzz.WRatio(friend_address, address)\n",
    "    print(address,'\\nRATIO: ',ratio, '\\n')"
   ]
  },
  {
   "cell_type": "markdown",
   "metadata": {},
   "source": [
    "This is the default scorer that gets used with **process.extract()**. This scorer, **fuzz.WRation (WR)** (which stands for Weighted Ratio), is an attempt to get a better ratio than the standard **fuzz.ratio (R)** one. Here is how it works according to the source code:\n",
    "1. Take the ratio of the two processed strings (fuzz.ratio)\n",
    "2. Run checks to compare the length of the strings\n",
    "    * If one of the strings is more than 1.5 times as long as the other\n",
    "      use partial_ratio comparisons - scale partial results by 0.9\n",
    "      (this makes sure only full results can return 100)\n",
    "    * If one of the strings is over 8 times as long as the other\n",
    "      instead scale by 0.6\n",
    "3. Run the other ratio functions\n",
    "    * if using partial ratio functions call partial_ratio,\n",
    "      partial_token_sort_ratio and partial_token_set_ratio\n",
    "      scale all of these by the ratio based on length\n",
    "    * otherwise call token_sort_ratio and token_set_ratio\n",
    "    * all token based comparisons are scaled by 0.95\n",
    "      (on top of any partial scalars)\n",
    "4. Take the highest value from these results, round it and return it as an integer."
   ]
  },
  {
   "cell_type": "markdown",
   "metadata": {},
   "source": [
    "It's magic I tell you!"
   ]
  },
  {
   "cell_type": "markdown",
   "metadata": {},
   "source": [
    "* ## fuzz.UWRatio (UWR) :"
   ]
  },
  {
   "cell_type": "code",
   "execution_count": 33,
   "metadata": {},
   "outputs": [
    {
     "name": "stdout",
     "output_type": "stream",
     "text": [
      "Friend's address :  56 West Princess Rd. Cedar Rapids, IA 52402 \n",
      " -------------------------------------------------------------- \n",
      "\n",
      "9102 South St. Lake Worth, FL 33460 \n",
      "RATIO:  38 \n",
      "\n",
      "20425 Prince Edward Road, West philadelphia, PA 56560 \n",
      "RATIO:  62 \n",
      "\n",
      "Wst Princess Road, Appt. 56 N°8 3rd floor, C.Rapids, 52402 Iowa  \n",
      "RATIO:  72 \n",
      "\n",
      "400 Van Dyke St.Hartford, IA 26106 \n",
      "RATIO:  44 \n",
      "\n",
      "56 Golden Star Rd, Stone Rapids, GA 52483 \n",
      "RATIO:  64 \n",
      "\n"
     ]
    }
   ],
   "source": [
    "print(\"Friend's address : \", friend_address, '\\n', 62*'-', '\\n')\n",
    "\n",
    "for address in phonebook:\n",
    "    ratio = fuzz.UWRatio(friend_address, address)\n",
    "    print(address,'\\nRATIO: ',ratio, '\\n')"
   ]
  },
  {
   "cell_type": "markdown",
   "metadata": {},
   "source": [
    "Same as **WR**, but it takes Unicode into consideration (hence the U). In this case, the 3rd address got a score of 72 instead of 73 that we got with **WR** because of the **° character** that forces the use of Unicode encoding (it not being present in the friend's address made the score slightly lower)."
   ]
  },
  {
   "cell_type": "markdown",
   "metadata": {},
   "source": [
    "* ## fuzz.QRatio (QR) :"
   ]
  },
  {
   "cell_type": "code",
   "execution_count": 34,
   "metadata": {},
   "outputs": [
    {
     "name": "stdout",
     "output_type": "stream",
     "text": [
      "Friend's address :  56 West Princess Rd. Cedar Rapids, IA 52402 \n",
      " -------------------------------------------------------------- \n",
      "\n",
      "9102 South St. Lake Worth, FL 33460 \n",
      "RATIO:  38 \n",
      "\n",
      "20425 Prince Edward Road, West philadelphia, PA 56560 \n",
      "RATIO:  52 \n",
      "\n",
      "Wst Princess Road, Appt. 56 N°8 3rd floor, C.Rapids, 52402 Iowa  \n",
      "RATIO:  63 \n",
      "\n",
      "400 Van Dyke St.Hartford, IA 26106 \n",
      "RATIO:  44 \n",
      "\n",
      "56 Golden Star Rd, Stone Rapids, GA 52483 \n",
      "RATIO:  64 \n",
      "\n"
     ]
    }
   ],
   "source": [
    "print(\"Friend's address : \", friend_address, '\\n', 62*'-', '\\n')\n",
    "\n",
    "for address in phonebook:\n",
    "    ratio = fuzz.QRatio(friend_address, address)\n",
    "    print(address,'\\nRATIO: ',ratio, '\\n')"
   ]
  },
  {
   "cell_type": "markdown",
   "metadata": {},
   "source": [
    "According to the source code, **QR** stands for Quick Ratio because it short circuits the comparison process if either of the strings is empty after processing."
   ]
  },
  {
   "cell_type": "markdown",
   "metadata": {},
   "source": [
    "* ## fuzz.UQRatio (UQR) :"
   ]
  },
  {
   "cell_type": "code",
   "execution_count": 36,
   "metadata": {},
   "outputs": [
    {
     "name": "stdout",
     "output_type": "stream",
     "text": [
      "Friend's address :  56 West Princess Rd. Cedar Rapids, IA 52402 \n",
      " -------------------------------------------------------------- \n",
      "\n",
      "9102 South St. Lake Worth, FL 33460 \n",
      "RATIO:  38 \n",
      "\n",
      "20425 Prince Edward Road, West philadelphia, PA 56560 \n",
      "RATIO:  52 \n",
      "\n",
      "Wst Princess Road, Appt. 56 N°8 3rd floor, C.Rapids, 52402 Iowa  \n",
      "RATIO:  62 \n",
      "\n",
      "400 Van Dyke St.Hartford, IA 26106 \n",
      "RATIO:  44 \n",
      "\n",
      "56 Golden Star Rd, Stone Rapids, GA 52483 \n",
      "RATIO:  64 \n",
      "\n"
     ]
    }
   ],
   "source": [
    "print(\"Friend's address : \", friend_address, '\\n', 62*'-', '\\n')\n",
    "\n",
    "for address in phonebook:\n",
    "    ratio = fuzz.UQRatio(friend_address, address)\n",
    "    print(address,'\\nRATIO: ',ratio, '\\n')"
   ]
  },
  {
   "cell_type": "markdown",
   "metadata": {},
   "source": [
    "Same as **QR** but it stands for Unicode Quick Ratio (just like there is a Unicode version of **WR**)"
   ]
  },
  {
   "cell_type": "markdown",
   "metadata": {},
   "source": [
    "<a id='theverdict'></a>\n",
    "\n",
    "---\n",
    "[Go back to table of contents ^](#table)\n",
    "# The verdict :"
   ]
  },
  {
   "cell_type": "markdown",
   "metadata": {},
   "source": [
    "As we can see, the best performing scorer changes from an application to an other. In the case of comparing full names to emails, **fuzz.partial_ratio (PR)** is the way to go. For addresses, **fuzz.token_set_ratio (TSeR)** is the scorer that performed best, not only because it gave the highest ratio to the correct address, but because the difference between the ratios of the correct address and the closest wrong address is the highest (12 points).\n",
    "\n",
    "In any case, using `FuzzyWuzzy` needs some experimenting before settling for the best method to match strings."
   ]
  },
  {
   "cell_type": "markdown",
   "metadata": {},
   "source": [
    "<a id='theappendix'></a>\n",
    "\n",
    "---\n",
    "[Go back to table of contents ^](#table)\n",
    "# The appendix (code explanations) :"
   ]
  },
  {
   "cell_type": "markdown",
   "metadata": {},
   "source": [
    "<a id='codex1'></a>\n",
    "* ### Code explanation 1: \n",
    "[<sub>Go back to the code</sub>](#code1)"
   ]
  },
  {
   "cell_type": "markdown",
   "metadata": {},
   "source": [
    "```\n",
    "%%HTML\n",
    "<style>.dataframe th, td:first-child{background:#3f577c;font-family:monospace;color:white;border:3px solid white;\n",
    "text-align:left !important;}#codex{float:right;}</style>```"
   ]
  },
  {
   "cell_type": "markdown",
   "metadata": {},
   "source": [
    "This cell uses the magic function `%%HTML` to render the CSS style between the `style` HTML tags. Here is what the CSS does :\n",
    "\n",
    "<pre>\n",
    ".dataframe th, td:first-child {                This calls on the selectors for dataframe index cells\n",
    "background:      #3f577c;                      This changes the background color of dataframe index cells\n",
    "font-family:     monospace;                    This changes their font to monospace\n",
    "color:           white;                        This colors the text white\n",
    "border:          3px solid white;              This adds a 3 pixel white border around dataframe index cells\n",
    "text-align:      left !important;              This aligns the dataframe index cells text to the left\n",
    "} \n",
    "\n",
    "#codex {                                       This calls on the ID for the 'code explanation' links\n",
    "float:           right;                        This sends the 'code explanation' links to the right\n",
    "}\n",
    "</pre>"
   ]
  },
  {
   "cell_type": "markdown",
   "metadata": {},
   "source": [
    "<a id='codex2'></a>\n",
    "* ### Code explanation 2: \n",
    "[<sub>Go back to the code</sub>](#code2)"
   ]
  },
  {
   "cell_type": "markdown",
   "metadata": {},
   "source": [
    "```\n",
    "hr['gen_email'] = hr['full_name'].str[0] + '.' + hr['full_name'].str.split().str[1] + '@giantbabybibs.org'\n",
    "hr['gen_email'] = hr['gen_email'].str.lower()\n",
    "hr.head(3)```"
   ]
  },
  {
   "cell_type": "markdown",
   "metadata": {},
   "source": [
    "In the first line, we are creating a new column `hr['gen_email]` that takes the value of 4 parts concatenated (joined) together with the `+` sign. The 4 parts are:\n",
    "* `hr['full_name'].str[0]`: takes the first letter of the full name\n",
    "* `'.'`: dot\n",
    "* `hr['full_name'].str.split().str[1]`: takes the full name, splits it into words (based on the white space) and then turns the 2nd word (which is the last name for employees with no middle name). Indexing in python is zero based, so an index of 1 returns the 2nd element.\n",
    "* `'@giantbabybibs.org'`: adds the domain name\n",
    "\n",
    "The second line simply turns all characters within the new column into lowercase characters."
   ]
  },
  {
   "cell_type": "markdown",
   "metadata": {},
   "source": [
    "<a id='codex3'></a>\n",
    "* ### Code explanation 3: \n",
    "[<sub>Go back to the code</sub>](#code3)"
   ]
  },
  {
   "cell_type": "markdown",
   "metadata": {},
   "source": [
    "```\n",
    "hr['exists'] = hr.apply(lambda x: x.gen_email in list(it.email), axis=1)\n",
    "hr.head(3)```"
   ]
  },
  {
   "cell_type": "markdown",
   "metadata": {},
   "source": [
    "This line creates a new column with `hr['exists']` and then applies a function `lambda x: x.gen_email in list(it.email)` that takes every email in the `gen_email` column and checks if it exists in the actual emails list `it.email`. It returns `True` if it exists, and `False` if not.\n",
    "\n",
    "The `axis` parameter here indicates that we want to apply the function along the column (0=index, 1=column)."
   ]
  },
  {
   "cell_type": "markdown",
   "metadata": {},
   "source": [
    "<a id='codex4'></a>\n",
    "* ### Code explanation 4: \n",
    "[<sub>Go back to the code</sub>](#code4)"
   ]
  },
  {
   "cell_type": "markdown",
   "metadata": {},
   "source": [
    "The code is condensed only for it to take as little space as possible. Normally, for the sake of clarity, it should be written this way :\n",
    "\n",
    "```\n",
    "ax = hr.exists.value_counts().sort_values().plot( kind='barh',                # Horizontal bar plot\n",
    "                                                  color=['tomato', 'c'],      # The colors of the two bars\n",
    "                                                  figsize=(12,1),             # The size of the plot\n",
    "                                                  width=0.3 )                 # The width of the bars\n",
    "                                                  \n",
    "plt.xlim(0,201)                # Limit the x axis to the range of 0-200 (we added 1 so 200 would be visible)\n",
    "plt.xticks(fontsize=8)         # Font size of 8 for the x axis ticks\n",
    "ax.set_frame_on(False)         # Remove the frame around the plot for simplicity\n",
    "plt.grid( color='white',       # Add a grid with white lines\n",
    "          alpha=.4,            # and an opacity of 40%\n",
    "          axis='x' ) ;         # only for the x axis (vertically) ``` "
   ]
  },
  {
   "cell_type": "markdown",
   "metadata": {},
   "source": [
    "Here, we take `hr.exists.value_counts()`, that outputs the following :\n",
    "    \n",
    "    True     148\n",
    "    False     52\n",
    "    \n",
    "And then we use `sort_values()` on it in order to make the `True` bar come first in the plot. Then, we use matplotlib to plot a horizontal bar plot with `.plot( kind='barh', ...)`\n",
    "\n",
    "The semi-colon ';' at the very end prevents the output from the last code line to show up. Here's why :\n",
    "\n",
    "**Plot without semi-colon :**"
   ]
  },
  {
   "cell_type": "code",
   "execution_count": 41,
   "metadata": {},
   "outputs": [
    {
     "data": {
      "text/plain": [
       "((0, 201),\n",
       " (array([  0.,  25.,  50.,  75., 100., 125., 150., 175., 200., 225.]),\n",
       "  <a list of 10 Text xticklabel objects>),\n",
       " None,\n",
       " None)"
      ]
     },
     "execution_count": 41,
     "metadata": {},
     "output_type": "execute_result"
    },
    {
     "data": {
      "image/png": "[encoded data removed]",
      "text/plain": [
       "<Figure size 864x72 with 1 Axes>"
      ]
     },
     "metadata": {
      "needs_background": "light"
     },
     "output_type": "display_data"
    }
   ],
   "source": [
    "ax = hr.exists.value_counts().sort_values().plot(kind='barh', color=['tomato', 'c'], figsize=(12,1), width=0.3)\n",
    "plt.xlim(0,201), plt.xticks(fontsize=8), ax.set_frame_on(False), plt.grid(color='white', alpha=.4, axis='x')"
   ]
  },
  {
   "cell_type": "markdown",
   "metadata": {},
   "source": [
    "**Plot with semi-colon :**"
   ]
  },
  {
   "cell_type": "code",
   "execution_count": 39,
   "metadata": {},
   "outputs": [
    {
     "data": {
      "image/png": "[encoded data removed]",
      "text/plain": [
       "<Figure size 864x72 with 1 Axes>"
      ]
     },
     "metadata": {
      "needs_background": "light"
     },
     "output_type": "display_data"
    }
   ],
   "source": [
    "ax = hr.exists.value_counts().sort_values().plot(kind='barh', color=['tomato', 'c'], figsize=(12,1), width=0.3)\n",
    "plt.xlim(0,201), plt.xticks(fontsize=8), ax.set_frame_on(False), plt.grid(color='white', alpha=.4, axis='x') ;"
   ]
  },
  {
   "cell_type": "markdown",
   "metadata": {},
   "source": [
    "<a id='codex5'></a>\n",
    "* ### Code explanation 5: \n",
    "[<sub>Go back to the code</sub>](#code5)"
   ]
  },
  {
   "cell_type": "markdown",
   "metadata": {},
   "source": [
    "```\n",
    "it['username'] = it['email'].str.replace('@giantbabybibs.org', '')\n",
    "it.head(3)```"
   ]
  },
  {
   "cell_type": "markdown",
   "metadata": {},
   "source": [
    "This is a simple one: we use the Pandas attribute (or accessor) `str`, followed by the method `.replace()` in order to replace the domaine name with an empty character (which has the same result as deleting the domaine name). The values are then assigned to the newly created column `username`."
   ]
  },
  {
   "cell_type": "markdown",
   "metadata": {},
   "source": [
    "<a id='codex6'></a>\n",
    "* ### Code explanation 6: \n",
    "[<sub>Go back to the code</sub>](#code6)"
   ]
  },
  {
   "cell_type": "markdown",
   "metadata": {},
   "source": [
    "```\n",
    "actual_email = []\n",
    "similarity = []\n",
    "\n",
    "for i in hr.full_name:\n",
    "        ratio = process.extract( i, it.username, limit=1)\n",
    "        actual_email.append(ratio[0][0])\n",
    "        similarity.append(ratio[0][1])\n",
    "\n",
    "hr['actual_email'] = pd.Series(actual_email)\n",
    "hr['actual_email'] = hr['actual_email'] + '@giantbabybibs.org'\n",
    "hr['similarity'] = pd.Series(similarity)\n",
    "\n",
    "hr.head(3)\n",
    "```"
   ]
  },
  {
   "cell_type": "markdown",
   "metadata": {},
   "source": [
    "There are 3 steps here :\n",
    "1. We create two empty lists: `actual_email` and `similarity` ;\n",
    "2. We use a `for` loop that iterates over each element of `hr.full_name` and applies the indented code or statement after it. Let's see what that statement does :\n",
    "\n",
    "    * `ratio = process.extract( i, it.username, limit=1)`: this calculates the ratio of `i` (which is a full name from `r.full_name` compared to all elements in `it.username`. Normally, this would return a list of tuples containing all the elements in `it.username` coupled with their respective ratios and indexes. However, because we specified the parameter `limit=1`, we'll only get the highest rated element. If we run this bit of code alone, we'll get :\n",
    "    \n",
    "    <pre>process.extract( 'Tony Stark', it.username, limit=1)\n",
    "         Output: [('t.stark', 82, 182)]</pre>\n",
    "         \n",
    "    As you can see, we get the matching element `t.stark`, its ratio `82` and its index in `it.username` which is `182`. Now this whole list is assigned to a variable called `ratio`.\n",
    "\n",
    "    * `actual_email.append(ratio[0][0])`: in this line, we take the element ratio[0][0], which is the first element in the first tuple `t.stark`, and we append it (add it) to the list `actual_email`.\n",
    "    * `similarity.append(ratio[0][1])`: likewise, we take the element ratio[0][1], which is the second element in the first tuple `82` and we append it to the list `similarity`.\n",
    "    \n",
    "    By the end of this loop, we'll end up with two lists: `actual_email` filled with all the best matching usernames, and `similarity` that holds all of their respective ratios.\n",
    "    \n",
    "    \n",
    "3. The third part comes after the completion of the for loop. Here, we create a new column called `actual_email` and we populate if with all the values from the list `actual_email`, and then we add the domaine name to it to make an email out of the usernames. We do the same thing with `similarity`."
   ]
  },
  {
   "cell_type": "markdown",
   "metadata": {},
   "source": [
    "<a id='codex7'></a>\n",
    "* ### Code explanation 7: \n",
    "[<sub>Go back to the code</sub>](#code7)"
   ]
  },
  {
   "cell_type": "markdown",
   "metadata": {},
   "source": [
    "```\n",
    "final_result = hr[['full_name', 'actual_email', 'similarity']]\n",
    "final_result.head(3)\n",
    "```"
   ]
  },
  {
   "cell_type": "markdown",
   "metadata": {},
   "source": [
    "In Pandas, if you have a dataframe with many columns, you can choose which columns to show by using double brackets [[ ]]. You can also make a new dataframe out of this selection if you assign it to a variable. However, make sure changes to the selection do not impact the original dataframe (in our case, we don't have to worry about that because no changes were made to the newly created `final_resul` dataframe)."
   ]
  },
  {
   "cell_type": "markdown",
   "metadata": {},
   "source": [
    "<a id='codex8'></a>\n",
    "* ### Code explanation 8: \n",
    "[<sub>Go back to the code</sub>](#code8)"
   ]
  },
  {
   "cell_type": "markdown",
   "metadata": {},
   "source": [
    "```\n",
    "final_result.head(8).style.background_gradient(subset='similarity', cmap='summer_r') \\\n",
    "                    .set_table_styles(styles)\n",
    "```"
   ]
  },
  {
   "cell_type": "markdown",
   "metadata": {},
   "source": [
    "In this code, we use `style.background_gradient` to apply the colormap `summer_r` to the subset or column `similarity`. `set_table_styles` reapplies the CSS we first introduced in at the beginning. The backslash or reverse slash is used here to mark a new line (or line break) without breaking the code (very useful if you want to keep clarity with long lines of code)."
   ]
  },
  {
   "cell_type": "markdown",
   "metadata": {},
   "source": [
    "<a id='codex9'></a>\n",
    "* ### Code explanation 9: \n",
    "[<sub>Go back to the code</sub>](#code9)"
   ]
  },
  {
   "cell_type": "markdown",
   "metadata": {},
   "source": [
    "```\n",
    "final_result[final_result['full_name'].str.contains('.', regex=False)]\n",
    "```"
   ]
  },
  {
   "cell_type": "markdown",
   "metadata": {},
   "source": [
    "We use the `str` accessor and its method `contains` to filter all rows in which the full name contains the character DOT. We're turning off Regex here because DOT is a literal string we're looking for and not a Regular Expression (RegEx)."
   ]
  },
  {
   "cell_type": "markdown",
   "metadata": {},
   "source": [
    "<a id='codex10'></a>\n",
    "* ### Code explanation 10: \n",
    "[<sub>Go back to the code</sub>](#code10)"
   ]
  },
  {
   "cell_type": "markdown",
   "metadata": {},
   "source": [
    "```\n",
    "def scorer_tester_function(x) :\n",
    "    actual_email = []\n",
    "    similarity = []\n",
    "    \n",
    "    for i in scorer_test['full_name']:\n",
    "        ratio = process.extract( i, it.username, limit=1, scorer=scorer_dict[x])\n",
    "        actual_email.append( ratio[0][0] )\n",
    "        similarity.append( ratio[0][1] )\n",
    "\n",
    "        scorer_test['actual_email'] = pd.Series(actual_email)\n",
    "        scorer_test['actual_email'] = scorer_test['actual_email'] + '@giantbabybibs.org'\n",
    "        scorer_test['similarity'] = pd.Series(similarity)\n",
    "        \n",
    "    return scorer_test\n",
    "```"
   ]
  },
  {
   "cell_type": "markdown",
   "metadata": {},
   "source": [
    "Here, we take the code in Code expalantion 7 and slap it inside a function (so we don't have to retype the whole code every time we want to execute it). The function takes one parameter, which is the scorer, and returns a dataframe `scorer_test`. And because we specified here `scorer = scorer_dict[x]`, we only need to supply the abbrevation of a scorer as the x paramter for the function to work. "
   ]
  },
  {
   "cell_type": "markdown",
   "metadata": {},
   "source": [
    "<a id='codex11'></a>\n",
    "* ### Code explanation 11: \n",
    "[<sub>Go back to the code</sub>](#code11)"
   ]
  },
  {
   "cell_type": "markdown",
   "metadata": {},
   "source": [
    "```\n",
    "scorer_tester_function('WR')\n",
    "scorer_test[scorer_test.full_name.str.contains('.', regex=False)]\n",
    "```"
   ]
  },
  {
   "cell_type": "markdown",
   "metadata": {},
   "source": [
    "See Code explanation 10 and then Code explanation 9."
   ]
  },
  {
   "cell_type": "markdown",
   "metadata": {},
   "source": [
    "<a id='codex12'></a>\n",
    "* ### Code explanation 12: \n",
    "[<sub>Go back to the code</sub>](#code12)"
   ]
  },
  {
   "cell_type": "markdown",
   "metadata": {},
   "source": [
    "```\n",
    "print(\"Friend's address : \", friend_address, '\\n', 62*'-', '\\n')\n",
    "\n",
    "for address in phonebook:\n",
    "    ratio = fuzz.ratio(friend_address, address)\n",
    "    print(address,'\\nRATIO: ',ratio, '\\n')\n",
    "```"
   ]
  },
  {
   "cell_type": "markdown",
   "metadata": {},
   "source": [
    "This is a simple one. Inside the parenthese of the `print` function, we have elements we want to print (show on the screen), separated by commas. The first element, `\"Friend's address : \"` is a simple string. The second is the variable `friend_address`. The third is a new line or a line break. The fourth is dash printed 62 times. The fifth is another line break. You can use the `+` operator to link all of these elements inside `print()`, but then you'll have to convert them all into string for it to work:\n",
    "\n",
    "`print( \"Friend's address : \" + str(friend_address) + '\\n', 62*'-', '\\n')`\n",
    "\n",
    "The second part is simply a `for` loop that goes over all the addresses in the phonebook and calculates their ratios in comparison to the friend's address."
   ]
  },
  {
   "cell_type": "markdown",
   "metadata": {},
   "source": [
    "<a id='parting'></a>\n",
    "\n",
    "---\n",
    "[Go back to table of contents ^](#table)\n",
    "# Parting notes :"
   ]
  },
  {
   "cell_type": "markdown",
   "metadata": {},
   "source": [
    "I just hope I didn't bore you guys to death!"
   ]
  }
 ],
 "metadata": {
  "kernelspec": {
   "display_name": "Python 3",
   "language": "python",
   "name": "python3"
  },
  "language_info": {
   "codemirror_mode": {
    "name": "ipython",
    "version": 3
   },
   "file_extension": ".py",
   "mimetype": "text/x-python",
   "name": "python",
   "nbconvert_exporter": "python",
   "pygments_lexer": "ipython3",
   "version": "3.6.7"
  }
 },
 "nbformat": 4,
 "nbformat_minor": 2
}
